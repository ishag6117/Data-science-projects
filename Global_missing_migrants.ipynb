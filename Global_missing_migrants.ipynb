{
 "cells": [
  {
   "cell_type": "code",
   "execution_count": 1,
   "id": "4400315c",
   "metadata": {},
   "outputs": [],
   "source": [
    "#importing Libraries\n",
    "import numpy as np\n",
    "import pandas as pd\n",
    "import matplotlib.pyplot as plt\n",
    "import seaborn as sns\n",
    "from sklearn import metrics\n",
    "from sklearn.model_selection import train_test_split\n",
    "from sklearn.linear_model import LinearRegression,LogisticRegression\n",
    "from sklearn.metrics import accuracy_score,classification_report,mean_absolute_error as mae,mean_squared_error as mse\n",
    "from sklearn.tree import DecisionTreeClassifier\n",
    "from sklearn.ensemble import RandomForestClassifier\n",
    "from sklearn.datasets import make_classification\n",
    "from scipy.stats import zscore\n",
    "from sklearn.preprocessing import StandardScaler"
   ]
  },
  {
   "cell_type": "code",
   "execution_count": 2,
   "id": "42cfb589",
   "metadata": {},
   "outputs": [
    {
     "data": {
      "text/html": [
       "<div>\n",
       "<style scoped>\n",
       "    .dataframe tbody tr th:only-of-type {\n",
       "        vertical-align: middle;\n",
       "    }\n",
       "\n",
       "    .dataframe tbody tr th {\n",
       "        vertical-align: top;\n",
       "    }\n",
       "\n",
       "    .dataframe thead th {\n",
       "        text-align: right;\n",
       "    }\n",
       "</style>\n",
       "<table border=\"1\" class=\"dataframe\">\n",
       "  <thead>\n",
       "    <tr style=\"text-align: right;\">\n",
       "      <th></th>\n",
       "      <th>Incident Type</th>\n",
       "      <th>Incident year</th>\n",
       "      <th>Reported Month</th>\n",
       "      <th>Region of Origin</th>\n",
       "      <th>Region of Incident</th>\n",
       "      <th>Country of Origin</th>\n",
       "      <th>Number of Dead</th>\n",
       "      <th>Minimum Estimated Number of Missing</th>\n",
       "      <th>Total Number of Dead and Missing</th>\n",
       "      <th>Number of Survivors</th>\n",
       "      <th>Number of Females</th>\n",
       "      <th>Number of Males</th>\n",
       "      <th>Number of Children</th>\n",
       "      <th>Cause of Death</th>\n",
       "      <th>Migration route</th>\n",
       "      <th>Location of death</th>\n",
       "      <th>Information Source</th>\n",
       "      <th>Coordinates</th>\n",
       "      <th>UNSD Geographical Grouping</th>\n",
       "    </tr>\n",
       "  </thead>\n",
       "  <tbody>\n",
       "    <tr>\n",
       "      <th>0</th>\n",
       "      <td>Incident</td>\n",
       "      <td>2014</td>\n",
       "      <td>January</td>\n",
       "      <td>Central America</td>\n",
       "      <td>North America</td>\n",
       "      <td>Guatemala</td>\n",
       "      <td>1.0</td>\n",
       "      <td>0</td>\n",
       "      <td>1</td>\n",
       "      <td>0</td>\n",
       "      <td>0</td>\n",
       "      <td>1</td>\n",
       "      <td>0</td>\n",
       "      <td>Mixed or unknown</td>\n",
       "      <td>US-Mexico border crossing</td>\n",
       "      <td>Pima Country Office of the Medical Examiner ju...</td>\n",
       "      <td>Pima County Office of the Medical Examiner (PC...</td>\n",
       "      <td>31.650259, -110.366453</td>\n",
       "      <td>Northern America</td>\n",
       "    </tr>\n",
       "    <tr>\n",
       "      <th>1</th>\n",
       "      <td>Incident</td>\n",
       "      <td>2014</td>\n",
       "      <td>January</td>\n",
       "      <td>Latin America / Caribbean (P)</td>\n",
       "      <td>North America</td>\n",
       "      <td>Unknown</td>\n",
       "      <td>1.0</td>\n",
       "      <td>0</td>\n",
       "      <td>1</td>\n",
       "      <td>0</td>\n",
       "      <td>0</td>\n",
       "      <td>0</td>\n",
       "      <td>0</td>\n",
       "      <td>Mixed or unknown</td>\n",
       "      <td>US-Mexico border crossing</td>\n",
       "      <td>Pima Country Office of the Medical Examiner ju...</td>\n",
       "      <td>Pima County Office of the Medical Examiner (PC...</td>\n",
       "      <td>31.59713, -111.73756</td>\n",
       "      <td>Northern America</td>\n",
       "    </tr>\n",
       "    <tr>\n",
       "      <th>2</th>\n",
       "      <td>Incident</td>\n",
       "      <td>2014</td>\n",
       "      <td>January</td>\n",
       "      <td>Latin America / Caribbean (P)</td>\n",
       "      <td>North America</td>\n",
       "      <td>Unknown</td>\n",
       "      <td>1.0</td>\n",
       "      <td>0</td>\n",
       "      <td>1</td>\n",
       "      <td>0</td>\n",
       "      <td>0</td>\n",
       "      <td>0</td>\n",
       "      <td>0</td>\n",
       "      <td>Mixed or unknown</td>\n",
       "      <td>US-Mexico border crossing</td>\n",
       "      <td>Pima Country Office of the Medical Examiner ju...</td>\n",
       "      <td>Pima County Office of the Medical Examiner (PC...</td>\n",
       "      <td>31.94026, -113.01125</td>\n",
       "      <td>Northern America</td>\n",
       "    </tr>\n",
       "    <tr>\n",
       "      <th>3</th>\n",
       "      <td>Incident</td>\n",
       "      <td>2014</td>\n",
       "      <td>January</td>\n",
       "      <td>Central America</td>\n",
       "      <td>North America</td>\n",
       "      <td>Mexico</td>\n",
       "      <td>1.0</td>\n",
       "      <td>0</td>\n",
       "      <td>1</td>\n",
       "      <td>0</td>\n",
       "      <td>0</td>\n",
       "      <td>1</td>\n",
       "      <td>0</td>\n",
       "      <td>Violence</td>\n",
       "      <td>US-Mexico border crossing</td>\n",
       "      <td>near Douglas, Arizona, USA</td>\n",
       "      <td>Ministry of Foreign Affairs Mexico, Pima Count...</td>\n",
       "      <td>31.506777, -109.315632</td>\n",
       "      <td>Northern America</td>\n",
       "    </tr>\n",
       "    <tr>\n",
       "      <th>4</th>\n",
       "      <td>Incident</td>\n",
       "      <td>2014</td>\n",
       "      <td>January</td>\n",
       "      <td>Northern Africa</td>\n",
       "      <td>Europe</td>\n",
       "      <td>Sudan</td>\n",
       "      <td>1.0</td>\n",
       "      <td>0</td>\n",
       "      <td>1</td>\n",
       "      <td>2</td>\n",
       "      <td>0</td>\n",
       "      <td>1</td>\n",
       "      <td>0</td>\n",
       "      <td>Harsh environmental conditions / lack of adequ...</td>\n",
       "      <td>NaN</td>\n",
       "      <td>Border between Russia and Estonia</td>\n",
       "      <td>EUBusiness (Agence France-Presse)</td>\n",
       "      <td>59.1551, 28</td>\n",
       "      <td>Northern Europe</td>\n",
       "    </tr>\n",
       "  </tbody>\n",
       "</table>\n",
       "</div>"
      ],
      "text/plain": [
       "  Incident Type  Incident year Reported Month               Region of Origin  \\\n",
       "0      Incident           2014        January                Central America   \n",
       "1      Incident           2014        January  Latin America / Caribbean (P)   \n",
       "2      Incident           2014        January  Latin America / Caribbean (P)   \n",
       "3      Incident           2014        January                Central America   \n",
       "4      Incident           2014        January                Northern Africa   \n",
       "\n",
       "  Region of Incident Country of Origin  Number of Dead  \\\n",
       "0      North America         Guatemala             1.0   \n",
       "1      North America           Unknown             1.0   \n",
       "2      North America           Unknown             1.0   \n",
       "3      North America            Mexico             1.0   \n",
       "4             Europe             Sudan             1.0   \n",
       "\n",
       "   Minimum Estimated Number of Missing  Total Number of Dead and Missing  \\\n",
       "0                                    0                                 1   \n",
       "1                                    0                                 1   \n",
       "2                                    0                                 1   \n",
       "3                                    0                                 1   \n",
       "4                                    0                                 1   \n",
       "\n",
       "   Number of Survivors  Number of Females  Number of Males  \\\n",
       "0                    0                  0                1   \n",
       "1                    0                  0                0   \n",
       "2                    0                  0                0   \n",
       "3                    0                  0                1   \n",
       "4                    2                  0                1   \n",
       "\n",
       "   Number of Children                                     Cause of Death  \\\n",
       "0                   0                                   Mixed or unknown   \n",
       "1                   0                                   Mixed or unknown   \n",
       "2                   0                                   Mixed or unknown   \n",
       "3                   0                                           Violence   \n",
       "4                   0  Harsh environmental conditions / lack of adequ...   \n",
       "\n",
       "             Migration route  \\\n",
       "0  US-Mexico border crossing   \n",
       "1  US-Mexico border crossing   \n",
       "2  US-Mexico border crossing   \n",
       "3  US-Mexico border crossing   \n",
       "4                        NaN   \n",
       "\n",
       "                                   Location of death  \\\n",
       "0  Pima Country Office of the Medical Examiner ju...   \n",
       "1  Pima Country Office of the Medical Examiner ju...   \n",
       "2  Pima Country Office of the Medical Examiner ju...   \n",
       "3                         near Douglas, Arizona, USA   \n",
       "4                  Border between Russia and Estonia   \n",
       "\n",
       "                                  Information Source             Coordinates  \\\n",
       "0  Pima County Office of the Medical Examiner (PC...  31.650259, -110.366453   \n",
       "1  Pima County Office of the Medical Examiner (PC...    31.59713, -111.73756   \n",
       "2  Pima County Office of the Medical Examiner (PC...    31.94026, -113.01125   \n",
       "3  Ministry of Foreign Affairs Mexico, Pima Count...  31.506777, -109.315632   \n",
       "4                  EUBusiness (Agence France-Presse)             59.1551, 28   \n",
       "\n",
       "  UNSD Geographical Grouping  \n",
       "0           Northern America  \n",
       "1           Northern America  \n",
       "2           Northern America  \n",
       "3           Northern America  \n",
       "4            Northern Europe  "
      ]
     },
     "execution_count": 2,
     "metadata": {},
     "output_type": "execute_result"
    }
   ],
   "source": [
    "#import csv file and printing first 5 values\n",
    "df = pd.read_csv('Global Missing Migrants Dataset.csv')\n",
    "df.head()"
   ]
  },
  {
   "cell_type": "code",
   "execution_count": 3,
   "id": "e0962ce8-2412-4128-afaf-232c178e7bf6",
   "metadata": {},
   "outputs": [
    {
     "data": {
      "text/plain": [
       "(13020, 19)"
      ]
     },
     "execution_count": 3,
     "metadata": {},
     "output_type": "execute_result"
    }
   ],
   "source": [
    "#shaping array\n",
    "np.shape(df)"
   ]
  },
  {
   "cell_type": "code",
   "execution_count": 4,
   "id": "4f99f7fd-fd54-4402-9a7d-65f195db7e23",
   "metadata": {},
   "outputs": [
    {
     "name": "stdout",
     "output_type": "stream",
     "text": [
      "<class 'pandas.core.frame.DataFrame'>\n",
      "RangeIndex: 13020 entries, 0 to 13019\n",
      "Data columns (total 19 columns):\n",
      " #   Column                               Non-Null Count  Dtype  \n",
      "---  ------                               --------------  -----  \n",
      " 0   Incident Type                        13020 non-null  object \n",
      " 1   Incident year                        13020 non-null  int64  \n",
      " 2   Reported Month                       13020 non-null  object \n",
      " 3   Region of Origin                     12998 non-null  object \n",
      " 4   Region of Incident                   13020 non-null  object \n",
      " 5   Country of Origin                    13012 non-null  object \n",
      " 6   Number of Dead                       12470 non-null  float64\n",
      " 7   Minimum Estimated Number of Missing  13020 non-null  int64  \n",
      " 8   Total Number of Dead and Missing     13020 non-null  int64  \n",
      " 9   Number of Survivors                  13020 non-null  int64  \n",
      " 10  Number of Females                    13020 non-null  int64  \n",
      " 11  Number of Males                      13020 non-null  int64  \n",
      " 12  Number of Children                   13020 non-null  int64  \n",
      " 13  Cause of Death                       13020 non-null  object \n",
      " 14  Migration route                      9999 non-null   object \n",
      " 15  Location of death                    13020 non-null  object \n",
      " 16  Information Source                   13012 non-null  object \n",
      " 17  Coordinates                          12984 non-null  object \n",
      " 18  UNSD Geographical Grouping           13019 non-null  object \n",
      "dtypes: float64(1), int64(7), object(11)\n",
      "memory usage: 1.9+ MB\n"
     ]
    }
   ],
   "source": [
    "#printnig information about the DataFrame\n",
    "df.info()"
   ]
  },
  {
   "cell_type": "code",
   "execution_count": 5,
   "id": "dbe8a27c-d4db-4e0c-b33f-df128d7529fc",
   "metadata": {},
   "outputs": [
    {
     "data": {
      "text/html": [
       "<div>\n",
       "<style scoped>\n",
       "    .dataframe tbody tr th:only-of-type {\n",
       "        vertical-align: middle;\n",
       "    }\n",
       "\n",
       "    .dataframe tbody tr th {\n",
       "        vertical-align: top;\n",
       "    }\n",
       "\n",
       "    .dataframe thead th {\n",
       "        text-align: right;\n",
       "    }\n",
       "</style>\n",
       "<table border=\"1\" class=\"dataframe\">\n",
       "  <thead>\n",
       "    <tr style=\"text-align: right;\">\n",
       "      <th></th>\n",
       "      <th>count</th>\n",
       "      <th>mean</th>\n",
       "      <th>std</th>\n",
       "      <th>min</th>\n",
       "      <th>25%</th>\n",
       "      <th>50%</th>\n",
       "      <th>75%</th>\n",
       "      <th>max</th>\n",
       "    </tr>\n",
       "  </thead>\n",
       "  <tbody>\n",
       "    <tr>\n",
       "      <th>Incident year</th>\n",
       "      <td>13020.0</td>\n",
       "      <td>2019.060753</td>\n",
       "      <td>2.418738</td>\n",
       "      <td>2014.0</td>\n",
       "      <td>2017.0</td>\n",
       "      <td>2019.0</td>\n",
       "      <td>2021.0</td>\n",
       "      <td>2023.0</td>\n",
       "    </tr>\n",
       "    <tr>\n",
       "      <th>Number of Dead</th>\n",
       "      <td>12470.0</td>\n",
       "      <td>2.623737</td>\n",
       "      <td>9.728163</td>\n",
       "      <td>0.0</td>\n",
       "      <td>1.0</td>\n",
       "      <td>1.0</td>\n",
       "      <td>2.0</td>\n",
       "      <td>750.0</td>\n",
       "    </tr>\n",
       "    <tr>\n",
       "      <th>Minimum Estimated Number of Missing</th>\n",
       "      <td>13020.0</td>\n",
       "      <td>1.904378</td>\n",
       "      <td>15.645297</td>\n",
       "      <td>-2.0</td>\n",
       "      <td>0.0</td>\n",
       "      <td>0.0</td>\n",
       "      <td>0.0</td>\n",
       "      <td>750.0</td>\n",
       "    </tr>\n",
       "    <tr>\n",
       "      <th>Total Number of Dead and Missing</th>\n",
       "      <td>13020.0</td>\n",
       "      <td>4.417281</td>\n",
       "      <td>19.950630</td>\n",
       "      <td>1.0</td>\n",
       "      <td>1.0</td>\n",
       "      <td>1.0</td>\n",
       "      <td>2.0</td>\n",
       "      <td>1022.0</td>\n",
       "    </tr>\n",
       "    <tr>\n",
       "      <th>Number of Survivors</th>\n",
       "      <td>13020.0</td>\n",
       "      <td>6.553763</td>\n",
       "      <td>42.315444</td>\n",
       "      <td>-2.0</td>\n",
       "      <td>0.0</td>\n",
       "      <td>0.0</td>\n",
       "      <td>0.0</td>\n",
       "      <td>1950.0</td>\n",
       "    </tr>\n",
       "    <tr>\n",
       "      <th>Number of Females</th>\n",
       "      <td>13020.0</td>\n",
       "      <td>0.458372</td>\n",
       "      <td>2.853658</td>\n",
       "      <td>0.0</td>\n",
       "      <td>0.0</td>\n",
       "      <td>0.0</td>\n",
       "      <td>0.0</td>\n",
       "      <td>94.0</td>\n",
       "    </tr>\n",
       "    <tr>\n",
       "      <th>Number of Males</th>\n",
       "      <td>13020.0</td>\n",
       "      <td>1.116052</td>\n",
       "      <td>3.811134</td>\n",
       "      <td>0.0</td>\n",
       "      <td>0.0</td>\n",
       "      <td>1.0</td>\n",
       "      <td>1.0</td>\n",
       "      <td>135.0</td>\n",
       "    </tr>\n",
       "    <tr>\n",
       "      <th>Number of Children</th>\n",
       "      <td>13020.0</td>\n",
       "      <td>0.238095</td>\n",
       "      <td>2.417196</td>\n",
       "      <td>0.0</td>\n",
       "      <td>0.0</td>\n",
       "      <td>0.0</td>\n",
       "      <td>0.0</td>\n",
       "      <td>250.0</td>\n",
       "    </tr>\n",
       "  </tbody>\n",
       "</table>\n",
       "</div>"
      ],
      "text/plain": [
       "                                       count         mean        std     min  \\\n",
       "Incident year                        13020.0  2019.060753   2.418738  2014.0   \n",
       "Number of Dead                       12470.0     2.623737   9.728163     0.0   \n",
       "Minimum Estimated Number of Missing  13020.0     1.904378  15.645297    -2.0   \n",
       "Total Number of Dead and Missing     13020.0     4.417281  19.950630     1.0   \n",
       "Number of Survivors                  13020.0     6.553763  42.315444    -2.0   \n",
       "Number of Females                    13020.0     0.458372   2.853658     0.0   \n",
       "Number of Males                      13020.0     1.116052   3.811134     0.0   \n",
       "Number of Children                   13020.0     0.238095   2.417196     0.0   \n",
       "\n",
       "                                        25%     50%     75%     max  \n",
       "Incident year                        2017.0  2019.0  2021.0  2023.0  \n",
       "Number of Dead                          1.0     1.0     2.0   750.0  \n",
       "Minimum Estimated Number of Missing     0.0     0.0     0.0   750.0  \n",
       "Total Number of Dead and Missing        1.0     1.0     2.0  1022.0  \n",
       "Number of Survivors                     0.0     0.0     0.0  1950.0  \n",
       "Number of Females                       0.0     0.0     0.0    94.0  \n",
       "Number of Males                         0.0     1.0     1.0   135.0  \n",
       "Number of Children                      0.0     0.0     0.0   250.0  "
      ]
     },
     "execution_count": 5,
     "metadata": {},
     "output_type": "execute_result"
    }
   ],
   "source": [
    "#returns the description of dataframe in transpose form\n",
    "df.describe().T"
   ]
  },
  {
   "cell_type": "code",
   "execution_count": 6,
   "id": "31e61916-db72-4f92-98b8-f0b9c105c81f",
   "metadata": {},
   "outputs": [
    {
     "data": {
      "text/plain": [
       "Incident Type                             4\n",
       "Incident year                            10\n",
       "Reported Month                           12\n",
       "Region of Origin                         33\n",
       "Region of Incident                       16\n",
       "Country of Origin                       335\n",
       "Number of Dead                           86\n",
       "Minimum Estimated Number of Missing     120\n",
       "Total Number of Dead and Missing        137\n",
       "Number of Survivors                     228\n",
       "Number of Females                        48\n",
       "Number of Males                          59\n",
       "Number of Children                       20\n",
       "Cause of Death                           15\n",
       "Migration route                          25\n",
       "Location of death                      7460\n",
       "Information Source                     3803\n",
       "Coordinates                            9582\n",
       "UNSD Geographical Grouping               19\n",
       "dtype: int64"
      ]
     },
     "execution_count": 6,
     "metadata": {},
     "output_type": "execute_result"
    }
   ],
   "source": [
    "#Calculating all the non-unique value\n",
    "df.nunique()"
   ]
  },
  {
   "cell_type": "markdown",
   "id": "9d499daa-81ec-4d5d-811f-60c10ad4ee3f",
   "metadata": {},
   "source": [
    "DATA CLEANING"
   ]
  },
  {
   "cell_type": "code",
   "execution_count": 7,
   "id": "22fc051e",
   "metadata": {},
   "outputs": [
    {
     "data": {
      "text/plain": [
       "Incident Type                             0\n",
       "Incident year                             0\n",
       "Reported Month                            0\n",
       "Region of Origin                         22\n",
       "Region of Incident                        0\n",
       "Country of Origin                         8\n",
       "Number of Dead                          550\n",
       "Minimum Estimated Number of Missing       0\n",
       "Total Number of Dead and Missing          0\n",
       "Number of Survivors                       0\n",
       "Number of Females                         0\n",
       "Number of Males                           0\n",
       "Number of Children                        0\n",
       "Cause of Death                            0\n",
       "Migration route                        3021\n",
       "Location of death                         0\n",
       "Information Source                        8\n",
       "Coordinates                              36\n",
       "UNSD Geographical Grouping                1\n",
       "dtype: int64"
      ]
     },
     "execution_count": 7,
     "metadata": {},
     "output_type": "execute_result"
    }
   ],
   "source": [
    "#handling missing values\n",
    "df.isnull().sum()"
   ]
  },
  {
   "cell_type": "code",
   "execution_count": 8,
   "id": "b4a5f9a4",
   "metadata": {},
   "outputs": [],
   "source": [
    "#dropping unnecessary columns\n",
    "c=['Information Source','Coordinates','UNSD Geographical Grouping']\n",
    "df=df.drop(columns=c, axis=1)"
   ]
  },
  {
   "cell_type": "code",
   "execution_count": 9,
   "id": "f6f07ac0",
   "metadata": {},
   "outputs": [],
   "source": [
    "#replaces the NULL values with a specified value\n",
    "df[\"Migration route\"].fillna(df[\"Migration route\"].mode()[0], inplace=True)"
   ]
  },
  {
   "cell_type": "code",
   "execution_count": 10,
   "id": "fbdfc3ce",
   "metadata": {},
   "outputs": [
    {
     "data": {
      "text/plain": [
       "0    1.0\n",
       "Name: Number of Dead, dtype: float64"
      ]
     },
     "execution_count": 10,
     "metadata": {},
     "output_type": "execute_result"
    }
   ],
   "source": [
    "df[\"Number of Dead\"].mode()"
   ]
  },
  {
   "cell_type": "code",
   "execution_count": 11,
   "id": "03cf2465",
   "metadata": {},
   "outputs": [],
   "source": [
    "df[\"Number of Dead\"].fillna(df[\"Number of Dead\"].mode()[0], inplace=True)"
   ]
  },
  {
   "cell_type": "code",
   "execution_count": 12,
   "id": "46b15d09",
   "metadata": {},
   "outputs": [
    {
     "data": {
      "text/plain": [
       "0    Latin America / Caribbean (P)\n",
       "Name: Region of Origin, dtype: object"
      ]
     },
     "execution_count": 12,
     "metadata": {},
     "output_type": "execute_result"
    }
   ],
   "source": [
    "df[\"Region of Origin\"].mode()"
   ]
  },
  {
   "cell_type": "code",
   "execution_count": 13,
   "id": "f34193fe",
   "metadata": {},
   "outputs": [],
   "source": [
    "df[\"Region of Origin\"].fillna(df[\"Region of Origin\"].mode()[0], inplace=True)"
   ]
  },
  {
   "cell_type": "code",
   "execution_count": 14,
   "id": "34d1a44d",
   "metadata": {},
   "outputs": [
    {
     "data": {
      "text/plain": [
       "Incident Type                          0\n",
       "Incident year                          0\n",
       "Reported Month                         0\n",
       "Region of Origin                       0\n",
       "Region of Incident                     0\n",
       "Country of Origin                      8\n",
       "Number of Dead                         0\n",
       "Minimum Estimated Number of Missing    0\n",
       "Total Number of Dead and Missing       0\n",
       "Number of Survivors                    0\n",
       "Number of Females                      0\n",
       "Number of Males                        0\n",
       "Number of Children                     0\n",
       "Cause of Death                         0\n",
       "Migration route                        0\n",
       "Location of death                      0\n",
       "dtype: int64"
      ]
     },
     "execution_count": 14,
     "metadata": {},
     "output_type": "execute_result"
    }
   ],
   "source": [
    "#Checking if there is any null value left\n",
    "df.isnull().sum()"
   ]
  },
  {
   "cell_type": "markdown",
   "id": "7680a930",
   "metadata": {},
   "source": [
    "### Data Analysis"
   ]
  },
  {
   "cell_type": "code",
   "execution_count": 15,
   "id": "9c907327",
   "metadata": {},
   "outputs": [
    {
     "data": {
      "text/html": [
       "<div>\n",
       "<style scoped>\n",
       "    .dataframe tbody tr th:only-of-type {\n",
       "        vertical-align: middle;\n",
       "    }\n",
       "\n",
       "    .dataframe tbody tr th {\n",
       "        vertical-align: top;\n",
       "    }\n",
       "\n",
       "    .dataframe thead th {\n",
       "        text-align: right;\n",
       "    }\n",
       "</style>\n",
       "<table border=\"1\" class=\"dataframe\">\n",
       "  <thead>\n",
       "    <tr style=\"text-align: right;\">\n",
       "      <th></th>\n",
       "      <th>count</th>\n",
       "      <th>mean</th>\n",
       "      <th>std</th>\n",
       "      <th>min</th>\n",
       "      <th>25%</th>\n",
       "      <th>50%</th>\n",
       "      <th>75%</th>\n",
       "      <th>max</th>\n",
       "    </tr>\n",
       "  </thead>\n",
       "  <tbody>\n",
       "    <tr>\n",
       "      <th>Incident year</th>\n",
       "      <td>13020.0</td>\n",
       "      <td>2019.060753</td>\n",
       "      <td>2.418738</td>\n",
       "      <td>2014.0</td>\n",
       "      <td>2017.0</td>\n",
       "      <td>2019.0</td>\n",
       "      <td>2021.0</td>\n",
       "      <td>2023.0</td>\n",
       "    </tr>\n",
       "    <tr>\n",
       "      <th>Number of Dead</th>\n",
       "      <td>13020.0</td>\n",
       "      <td>2.555146</td>\n",
       "      <td>9.526058</td>\n",
       "      <td>0.0</td>\n",
       "      <td>1.0</td>\n",
       "      <td>1.0</td>\n",
       "      <td>2.0</td>\n",
       "      <td>750.0</td>\n",
       "    </tr>\n",
       "    <tr>\n",
       "      <th>Minimum Estimated Number of Missing</th>\n",
       "      <td>13020.0</td>\n",
       "      <td>1.904378</td>\n",
       "      <td>15.645297</td>\n",
       "      <td>-2.0</td>\n",
       "      <td>0.0</td>\n",
       "      <td>0.0</td>\n",
       "      <td>0.0</td>\n",
       "      <td>750.0</td>\n",
       "    </tr>\n",
       "    <tr>\n",
       "      <th>Total Number of Dead and Missing</th>\n",
       "      <td>13020.0</td>\n",
       "      <td>4.417281</td>\n",
       "      <td>19.950630</td>\n",
       "      <td>1.0</td>\n",
       "      <td>1.0</td>\n",
       "      <td>1.0</td>\n",
       "      <td>2.0</td>\n",
       "      <td>1022.0</td>\n",
       "    </tr>\n",
       "    <tr>\n",
       "      <th>Number of Survivors</th>\n",
       "      <td>13020.0</td>\n",
       "      <td>6.553763</td>\n",
       "      <td>42.315444</td>\n",
       "      <td>-2.0</td>\n",
       "      <td>0.0</td>\n",
       "      <td>0.0</td>\n",
       "      <td>0.0</td>\n",
       "      <td>1950.0</td>\n",
       "    </tr>\n",
       "    <tr>\n",
       "      <th>Number of Females</th>\n",
       "      <td>13020.0</td>\n",
       "      <td>0.458372</td>\n",
       "      <td>2.853658</td>\n",
       "      <td>0.0</td>\n",
       "      <td>0.0</td>\n",
       "      <td>0.0</td>\n",
       "      <td>0.0</td>\n",
       "      <td>94.0</td>\n",
       "    </tr>\n",
       "    <tr>\n",
       "      <th>Number of Males</th>\n",
       "      <td>13020.0</td>\n",
       "      <td>1.116052</td>\n",
       "      <td>3.811134</td>\n",
       "      <td>0.0</td>\n",
       "      <td>0.0</td>\n",
       "      <td>1.0</td>\n",
       "      <td>1.0</td>\n",
       "      <td>135.0</td>\n",
       "    </tr>\n",
       "    <tr>\n",
       "      <th>Number of Children</th>\n",
       "      <td>13020.0</td>\n",
       "      <td>0.238095</td>\n",
       "      <td>2.417196</td>\n",
       "      <td>0.0</td>\n",
       "      <td>0.0</td>\n",
       "      <td>0.0</td>\n",
       "      <td>0.0</td>\n",
       "      <td>250.0</td>\n",
       "    </tr>\n",
       "  </tbody>\n",
       "</table>\n",
       "</div>"
      ],
      "text/plain": [
       "                                       count         mean        std     min  \\\n",
       "Incident year                        13020.0  2019.060753   2.418738  2014.0   \n",
       "Number of Dead                       13020.0     2.555146   9.526058     0.0   \n",
       "Minimum Estimated Number of Missing  13020.0     1.904378  15.645297    -2.0   \n",
       "Total Number of Dead and Missing     13020.0     4.417281  19.950630     1.0   \n",
       "Number of Survivors                  13020.0     6.553763  42.315444    -2.0   \n",
       "Number of Females                    13020.0     0.458372   2.853658     0.0   \n",
       "Number of Males                      13020.0     1.116052   3.811134     0.0   \n",
       "Number of Children                   13020.0     0.238095   2.417196     0.0   \n",
       "\n",
       "                                        25%     50%     75%     max  \n",
       "Incident year                        2017.0  2019.0  2021.0  2023.0  \n",
       "Number of Dead                          1.0     1.0     2.0   750.0  \n",
       "Minimum Estimated Number of Missing     0.0     0.0     0.0   750.0  \n",
       "Total Number of Dead and Missing        1.0     1.0     2.0  1022.0  \n",
       "Number of Survivors                     0.0     0.0     0.0  1950.0  \n",
       "Number of Females                       0.0     0.0     0.0    94.0  \n",
       "Number of Males                         0.0     1.0     1.0   135.0  \n",
       "Number of Children                      0.0     0.0     0.0   250.0  "
      ]
     },
     "execution_count": 15,
     "metadata": {},
     "output_type": "execute_result"
    }
   ],
   "source": [
    "df.describe().T"
   ]
  },
  {
   "cell_type": "code",
   "execution_count": 16,
   "id": "9774c1a0-fd13-49b6-bdb6-bc85f4ba6b92",
   "metadata": {},
   "outputs": [
    {
     "data": {
      "text/plain": [
       "(13020, 16)"
      ]
     },
     "execution_count": 16,
     "metadata": {},
     "output_type": "execute_result"
    }
   ],
   "source": [
    "np.shape(df)"
   ]
  },
  {
   "cell_type": "code",
   "execution_count": 17,
   "id": "40e570ab",
   "metadata": {},
   "outputs": [
    {
     "data": {
      "text/plain": [
       "Number of Dead\n",
       "1.0      9464\n",
       "2.0      1386\n",
       "3.0       676\n",
       "4.0       297\n",
       "5.0       220\n",
       "         ... \n",
       "133.0       1\n",
       "120.0       1\n",
       "204.0       1\n",
       "97.0        1\n",
       "80.0        1\n",
       "Name: count, Length: 86, dtype: int64"
      ]
     },
     "execution_count": 17,
     "metadata": {},
     "output_type": "execute_result"
    }
   ],
   "source": [
    "#returning a series that contain counts of unique values\n",
    "df['Number of Dead'].value_counts()"
   ]
  },
  {
   "cell_type": "code",
   "execution_count": 18,
   "id": "a8a44914",
   "metadata": {},
   "outputs": [
    {
     "data": {
      "text/plain": [
       "Number of Survivors\n",
       "0      10959\n",
       "1        205\n",
       "2        129\n",
       "3        118\n",
       "4         82\n",
       "       ...  \n",
       "122        1\n",
       "118        1\n",
       "162        1\n",
       "250        1\n",
       "132        1\n",
       "Name: count, Length: 228, dtype: int64"
      ]
     },
     "execution_count": 18,
     "metadata": {},
     "output_type": "execute_result"
    }
   ],
   "source": [
    "df['Number of Survivors'].value_counts()"
   ]
  },
  {
   "cell_type": "code",
   "execution_count": 19,
   "id": "1de808e0-974f-4f7f-9386-7976daf07b5a",
   "metadata": {},
   "outputs": [
    {
     "data": {
      "image/png": "[encoded data removed]",
      "text/plain": [
       "<Figure size 640x480 with 1 Axes>"
      ]
     },
     "metadata": {},
     "output_type": "display_data"
    }
   ],
   "source": [
    "#Plotting a bar graph to find in which year most people died\n",
    "sns.barplot(data=df, x='Incident year',y= 'Number of Dead')\n",
    "plt.title('Most people died in which year');"
   ]
  },
  {
   "cell_type": "code",
   "execution_count": 20,
   "id": "ca5b69fa-11ea-4554-8447-fe3983e8c27c",
   "metadata": {},
   "outputs": [
    {
     "data": {
      "image/png": "[encoded data removed]",
      "text/plain": [
       "<Figure size 640x480 with 1 Axes>"
      ]
     },
     "metadata": {},
     "output_type": "display_data"
    }
   ],
   "source": [
    "#Plotting a bar graph to find in which origin more people died\n",
    "sns.barplot(data= df, x='Number of Dead',y= 'Region of Origin');\n",
    "plt.title('Which origin of people died more');"
   ]
  },
  {
   "cell_type": "code",
   "execution_count": 21,
   "id": "6d17df52-2e24-40ee-b96f-d1fdb65aa5f8",
   "metadata": {},
   "outputs": [
    {
     "data": {
      "image/png": "[encoded data removed]",
      "text/plain": [
       "<Figure size 640x480 with 1 Axes>"
      ]
     },
     "metadata": {},
     "output_type": "display_data"
    }
   ],
   "source": [
    "#Plotting a scatterplot to find in which region most people died\n",
    "sns.scatterplot(data= df, x='Number of Dead',y= 'Region of Incident');\n",
    "plt.title('Most people Died in which Region');"
   ]
  },
  {
   "cell_type": "code",
   "execution_count": 22,
   "id": "b643709a-f1a1-44f8-a3fb-f0da5698994b",
   "metadata": {},
   "outputs": [
    {
     "data": {
      "image/png": "[encoded data removed]",
      "text/plain": [
       "<Figure size 640x480 with 1 Axes>"
      ]
     },
     "metadata": {},
     "output_type": "display_data"
    }
   ],
   "source": [
    "#Plotting a lineplot to find in due to which cause most people died\n",
    "sns.lineplot(data= df, x='Number of Dead',y= 'Cause of Death');\n",
    "plt.title('Most people died due to These Causes');"
   ]
  },
  {
   "cell_type": "code",
   "execution_count": 23,
   "id": "ffad36b3-9847-491c-bc2f-b4bfd8a85aa5",
   "metadata": {},
   "outputs": [
    {
     "data": {
      "image/png": "[encoded data removed]",
      "text/plain": [
       "<Figure size 640x480 with 1 Axes>"
      ]
     },
     "metadata": {},
     "output_type": "display_data"
    }
   ],
   "source": [
    "#Plotting a distribution plot to find number of people survived in which year \n",
    "sns.lineplot(data = df, x= 'Incident year', y = 'Number of Survivors')\n",
    "plt.title('Number of people survived by year');"
   ]
  },
  {
   "cell_type": "code",
   "execution_count": 24,
   "id": "ea144160",
   "metadata": {},
   "outputs": [
    {
     "data": {
      "image/png": "[encoded data removed]",
      "text/plain": [
       "<Figure size 1000x400 with 2 Axes>"
      ]
     },
     "metadata": {},
     "output_type": "display_data"
    }
   ],
   "source": [
    "#Plotting a heatmap to find number of survivors and dead among males,females and children \n",
    "a=[ df['Number of Survivors'].iloc[:10],df['Number of Dead'].iloc[:10],\n",
    "   df['Number of Females'].iloc[:10],df['Number of Males'].iloc[:10],df['Number of Children'].iloc[:10]]\n",
    "ax = plt.subplots(figsize=(10,4))\n",
    "sns.heatmap(a,square=True,annot=True,fmt=\".1f\", linewidth=1,cmap='viridis')\n",
    "plt.show()"
   ]
  },
  {
   "cell_type": "code",
   "execution_count": 25,
   "id": "6be00eaa",
   "metadata": {},
   "outputs": [
    {
     "data": {
      "image/png": "[encoded data removed]",
      "text/plain": [
       "<Figure size 700x400 with 1 Axes>"
      ]
     },
     "metadata": {},
     "output_type": "display_data"
    }
   ],
   "source": [
    "#Plotting a bargraph to find gender distribution of migrants\n",
    "gender_counts = df[['Number of Females', 'Number of Males', 'Number of Children']].sum()\n",
    "# Create a DataFrame for plotting\n",
    "gender_data = pd.DataFrame({\n",
    "    'Gender': gender_counts.index,\n",
    "    'Count': gender_counts.values\n",
    "})\n",
    "# Create a bar plot using Seaborn\n",
    "plt.figure(figsize=(7, 4))\n",
    "ax = sns.barplot(x='Gender', y='Count', data=gender_data)\n",
    "for bars in ax.containers:\n",
    "    ax.bar_label(bars)\n",
    "# Add title and labels\n",
    "plt.title(\"Gender Distribution of Migrants\")\n",
    "plt.xlabel(\"Gender\")\n",
    "plt.ylabel(\"Count\")\n",
    "# Show the plot\n",
    "plt.show()"
   ]
  },
  {
   "cell_type": "markdown",
   "id": "18baa76f-ade7-40a9-9681-6803ddebad5f",
   "metadata": {},
   "source": [
    "REMOVING OUTLIERS"
   ]
  },
  {
   "cell_type": "code",
   "execution_count": 26,
   "id": "8cc5f3aa-a704-42e7-82d9-a3eeae573615",
   "metadata": {},
   "outputs": [
    {
     "name": "stdout",
     "output_type": "stream",
     "text": [
      "Mean of number of dead in dataset =  2.555145929339478\n",
      "Standard deviation of number of dead in dataset =  9.525692500046006\n"
     ]
    }
   ],
   "source": [
    "mean=np.mean(df['Number of Dead'])\n",
    "std=np.std(df['Number of Dead'])\n",
    "print(\"Mean of number of dead in dataset = \" ,mean)\n",
    "print(\"Standard deviation of number of dead in dataset = \" ,std)"
   ]
  },
  {
   "cell_type": "code",
   "execution_count": 27,
   "id": "45eeb897-4401-4cb1-8bf7-4a73c7e155dc",
   "metadata": {},
   "outputs": [
    {
     "name": "stdout",
     "output_type": "stream",
     "text": [
      "Q1 25 percentile of Number of Dead =  1.0\n",
      "Q2 50 percentile of Number of Dead =  1.0\n",
      "Q3 75 percentile of Number of Dead =  2.0\n",
      "Interquartile range of Number of Dead =  1.0\n"
     ]
    }
   ],
   "source": [
    "Q1=df['Number of Dead'].quantile(0.25)\n",
    "Q2=df['Number of Dead'].quantile(0.50)\n",
    "Q3=df['Number of Dead'].quantile(0.75)\n",
    "IQR=Q3-Q1\n",
    "print(\"Q1 25 percentile of Number of Dead = \",Q1)\n",
    "print(\"Q2 50 percentile of Number of Dead = \",Q2)\n",
    "print(\"Q3 75 percentile of Number of Dead = \",Q3)\n",
    "print(\"Interquartile range of Number of Dead = \",IQR)"
   ]
  },
  {
   "cell_type": "code",
   "execution_count": 28,
   "id": "caedc32a-655a-4a4b-a84c-97700a111d83",
   "metadata": {},
   "outputs": [
    {
     "name": "stdout",
     "output_type": "stream",
     "text": [
      "-26.02193157079854\n",
      "31.132223429477495\n"
     ]
    }
   ],
   "source": [
    "low_lim=mean-3*std\n",
    "up_lim=mean+3*std\n",
    "print(low_lim)\n",
    "print(up_lim)"
   ]
  },
  {
   "cell_type": "code",
   "execution_count": 29,
   "id": "4d559ef7-0479-48b7-88c6-afda807b0064",
   "metadata": {},
   "outputs": [],
   "source": [
    "#since low_limit is negative so lets assume,\n",
    "low_lim=0"
   ]
  },
  {
   "cell_type": "code",
   "execution_count": 30,
   "id": "27afe8cb-60e6-4fb1-af26-7d9ba60ae7fd",
   "metadata": {},
   "outputs": [
    {
     "data": {
      "text/html": [
       "<div>\n",
       "<style scoped>\n",
       "    .dataframe tbody tr th:only-of-type {\n",
       "        vertical-align: middle;\n",
       "    }\n",
       "\n",
       "    .dataframe tbody tr th {\n",
       "        vertical-align: top;\n",
       "    }\n",
       "\n",
       "    .dataframe thead th {\n",
       "        text-align: right;\n",
       "    }\n",
       "</style>\n",
       "<table border=\"1\" class=\"dataframe\">\n",
       "  <thead>\n",
       "    <tr style=\"text-align: right;\">\n",
       "      <th></th>\n",
       "      <th>Incident Type</th>\n",
       "      <th>Incident year</th>\n",
       "      <th>Reported Month</th>\n",
       "      <th>Region of Origin</th>\n",
       "      <th>Region of Incident</th>\n",
       "      <th>Country of Origin</th>\n",
       "      <th>Number of Dead</th>\n",
       "      <th>Minimum Estimated Number of Missing</th>\n",
       "      <th>Total Number of Dead and Missing</th>\n",
       "      <th>Number of Survivors</th>\n",
       "      <th>Number of Females</th>\n",
       "      <th>Number of Males</th>\n",
       "      <th>Number of Children</th>\n",
       "      <th>Cause of Death</th>\n",
       "      <th>Migration route</th>\n",
       "      <th>Location of death</th>\n",
       "    </tr>\n",
       "  </thead>\n",
       "  <tbody>\n",
       "    <tr>\n",
       "      <th>45</th>\n",
       "      <td>Incident</td>\n",
       "      <td>2014</td>\n",
       "      <td>March</td>\n",
       "      <td>Middle Africa</td>\n",
       "      <td>Eastern Africa</td>\n",
       "      <td>Congo</td>\n",
       "      <td>251.0</td>\n",
       "      <td>0</td>\n",
       "      <td>251</td>\n",
       "      <td>50</td>\n",
       "      <td>0</td>\n",
       "      <td>0</td>\n",
       "      <td>0</td>\n",
       "      <td>Drowning</td>\n",
       "      <td>US-Mexico border crossing</td>\n",
       "      <td>Lake Albert, Uganda/DRC</td>\n",
       "    </tr>\n",
       "    <tr>\n",
       "      <th>78</th>\n",
       "      <td>Incident</td>\n",
       "      <td>2014</td>\n",
       "      <td>May</td>\n",
       "      <td>Sub-Saharan Africa (P)</td>\n",
       "      <td>Mediterranean</td>\n",
       "      <td>Unknown</td>\n",
       "      <td>44.0</td>\n",
       "      <td>33</td>\n",
       "      <td>77</td>\n",
       "      <td>53</td>\n",
       "      <td>0</td>\n",
       "      <td>0</td>\n",
       "      <td>0</td>\n",
       "      <td>Drowning</td>\n",
       "      <td>Central Mediterranean</td>\n",
       "      <td>Coast of Libya</td>\n",
       "    </tr>\n",
       "    <tr>\n",
       "      <th>94</th>\n",
       "      <td>Incident</td>\n",
       "      <td>2014</td>\n",
       "      <td>May</td>\n",
       "      <td>Eastern Africa</td>\n",
       "      <td>Eastern Africa</td>\n",
       "      <td>Ethiopia,Somalia</td>\n",
       "      <td>62.0</td>\n",
       "      <td>0</td>\n",
       "      <td>62</td>\n",
       "      <td>0</td>\n",
       "      <td>0</td>\n",
       "      <td>0</td>\n",
       "      <td>0</td>\n",
       "      <td>Drowning</td>\n",
       "      <td>Horn of Africa to Yemen crossing</td>\n",
       "      <td>Gulf of Aden</td>\n",
       "    </tr>\n",
       "    <tr>\n",
       "      <th>127</th>\n",
       "      <td>Incident</td>\n",
       "      <td>2014</td>\n",
       "      <td>June</td>\n",
       "      <td>Unknown</td>\n",
       "      <td>Mediterranean</td>\n",
       "      <td>Cameroon,Somalia,Syrian Arab Republic</td>\n",
       "      <td>45.0</td>\n",
       "      <td>0</td>\n",
       "      <td>45</td>\n",
       "      <td>566</td>\n",
       "      <td>0</td>\n",
       "      <td>45</td>\n",
       "      <td>0</td>\n",
       "      <td>Vehicle accident / death linked to hazardous t...</td>\n",
       "      <td>Central Mediterranean</td>\n",
       "      <td>Unspecified location between North Africa and ...</td>\n",
       "    </tr>\n",
       "    <tr>\n",
       "      <th>173</th>\n",
       "      <td>Incident</td>\n",
       "      <td>2014</td>\n",
       "      <td>August</td>\n",
       "      <td>Sub-Saharan Africa (P)</td>\n",
       "      <td>Mediterranean</td>\n",
       "      <td>Unknown</td>\n",
       "      <td>170.0</td>\n",
       "      <td>81</td>\n",
       "      <td>251</td>\n",
       "      <td>19</td>\n",
       "      <td>0</td>\n",
       "      <td>0</td>\n",
       "      <td>1</td>\n",
       "      <td>Drowning</td>\n",
       "      <td>Central Mediterranean</td>\n",
       "      <td>Off shores of al-Qarbouli, 50km east of Tripoli</td>\n",
       "    </tr>\n",
       "    <tr>\n",
       "      <th>...</th>\n",
       "      <td>...</td>\n",
       "      <td>...</td>\n",
       "      <td>...</td>\n",
       "      <td>...</td>\n",
       "      <td>...</td>\n",
       "      <td>...</td>\n",
       "      <td>...</td>\n",
       "      <td>...</td>\n",
       "      <td>...</td>\n",
       "      <td>...</td>\n",
       "      <td>...</td>\n",
       "      <td>...</td>\n",
       "      <td>...</td>\n",
       "      <td>...</td>\n",
       "      <td>...</td>\n",
       "      <td>...</td>\n",
       "    </tr>\n",
       "    <tr>\n",
       "      <th>12550</th>\n",
       "      <td>Split Incident</td>\n",
       "      <td>2023</td>\n",
       "      <td>February</td>\n",
       "      <td>Southern Asia (P)</td>\n",
       "      <td>Mediterranean</td>\n",
       "      <td>Afghanistan,Pakistan,State of Palestine,Tunisi...</td>\n",
       "      <td>86.0</td>\n",
       "      <td>12</td>\n",
       "      <td>98</td>\n",
       "      <td>82</td>\n",
       "      <td>5</td>\n",
       "      <td>5</td>\n",
       "      <td>30</td>\n",
       "      <td>Drowning</td>\n",
       "      <td>Central Mediterranean</td>\n",
       "      <td>Around 150m off Steccato di Cutro, Crotone, Ca...</td>\n",
       "    </tr>\n",
       "    <tr>\n",
       "      <th>12592</th>\n",
       "      <td>Incident</td>\n",
       "      <td>2023</td>\n",
       "      <td>March</td>\n",
       "      <td>Eastern Africa</td>\n",
       "      <td>Eastern Africa</td>\n",
       "      <td>Madagascar</td>\n",
       "      <td>34.0</td>\n",
       "      <td>0</td>\n",
       "      <td>34</td>\n",
       "      <td>23</td>\n",
       "      <td>0</td>\n",
       "      <td>0</td>\n",
       "      <td>0</td>\n",
       "      <td>Drowning</td>\n",
       "      <td>US-Mexico border crossing</td>\n",
       "      <td>Off the coast of Ankazomborona, Madagascar</td>\n",
       "    </tr>\n",
       "    <tr>\n",
       "      <th>12708</th>\n",
       "      <td>Incident</td>\n",
       "      <td>2023</td>\n",
       "      <td>April</td>\n",
       "      <td>Unknown</td>\n",
       "      <td>Mediterranean</td>\n",
       "      <td>Unknown</td>\n",
       "      <td>50.0</td>\n",
       "      <td>10</td>\n",
       "      <td>60</td>\n",
       "      <td>0</td>\n",
       "      <td>3</td>\n",
       "      <td>38</td>\n",
       "      <td>0</td>\n",
       "      <td>Drowning</td>\n",
       "      <td>Central Mediterranean</td>\n",
       "      <td>Off the coast of Sabratah, Libya</td>\n",
       "    </tr>\n",
       "    <tr>\n",
       "      <th>12790</th>\n",
       "      <td>Split Incident</td>\n",
       "      <td>2023</td>\n",
       "      <td>March</td>\n",
       "      <td>South America</td>\n",
       "      <td>Central America</td>\n",
       "      <td>Colombia,El Salvador,Guatemala,Honduras,Unknow...</td>\n",
       "      <td>40.0</td>\n",
       "      <td>0</td>\n",
       "      <td>40</td>\n",
       "      <td>0</td>\n",
       "      <td>0</td>\n",
       "      <td>0</td>\n",
       "      <td>0</td>\n",
       "      <td>Accidental death</td>\n",
       "      <td>US-Mexico border crossing</td>\n",
       "      <td>In an immigration detention center in Ciudad J...</td>\n",
       "    </tr>\n",
       "    <tr>\n",
       "      <th>12849</th>\n",
       "      <td>Incident</td>\n",
       "      <td>2023</td>\n",
       "      <td>June</td>\n",
       "      <td>Unknown</td>\n",
       "      <td>Mediterranean</td>\n",
       "      <td>Unknown</td>\n",
       "      <td>80.0</td>\n",
       "      <td>516</td>\n",
       "      <td>596</td>\n",
       "      <td>104</td>\n",
       "      <td>0</td>\n",
       "      <td>0</td>\n",
       "      <td>0</td>\n",
       "      <td>Drowning</td>\n",
       "      <td>Central Mediterranean</td>\n",
       "      <td>Off the coast of Kalamata, Greece. After depar...</td>\n",
       "    </tr>\n",
       "  </tbody>\n",
       "</table>\n",
       "<p>96 rows × 16 columns</p>\n",
       "</div>"
      ],
      "text/plain": [
       "        Incident Type  Incident year Reported Month        Region of Origin  \\\n",
       "45           Incident           2014          March           Middle Africa   \n",
       "78           Incident           2014            May  Sub-Saharan Africa (P)   \n",
       "94           Incident           2014            May          Eastern Africa   \n",
       "127          Incident           2014           June                 Unknown   \n",
       "173          Incident           2014         August  Sub-Saharan Africa (P)   \n",
       "...               ...            ...            ...                     ...   \n",
       "12550  Split Incident           2023       February       Southern Asia (P)   \n",
       "12592        Incident           2023          March          Eastern Africa   \n",
       "12708        Incident           2023          April                 Unknown   \n",
       "12790  Split Incident           2023          March           South America   \n",
       "12849        Incident           2023           June                 Unknown   \n",
       "\n",
       "      Region of Incident                                  Country of Origin  \\\n",
       "45        Eastern Africa                                              Congo   \n",
       "78         Mediterranean                                            Unknown   \n",
       "94        Eastern Africa                                   Ethiopia,Somalia   \n",
       "127        Mediterranean              Cameroon,Somalia,Syrian Arab Republic   \n",
       "173        Mediterranean                                            Unknown   \n",
       "...                  ...                                                ...   \n",
       "12550      Mediterranean  Afghanistan,Pakistan,State of Palestine,Tunisi...   \n",
       "12592     Eastern Africa                                         Madagascar   \n",
       "12708      Mediterranean                                            Unknown   \n",
       "12790    Central America  Colombia,El Salvador,Guatemala,Honduras,Unknow...   \n",
       "12849      Mediterranean                                            Unknown   \n",
       "\n",
       "       Number of Dead  Minimum Estimated Number of Missing  \\\n",
       "45              251.0                                    0   \n",
       "78               44.0                                   33   \n",
       "94               62.0                                    0   \n",
       "127              45.0                                    0   \n",
       "173             170.0                                   81   \n",
       "...               ...                                  ...   \n",
       "12550            86.0                                   12   \n",
       "12592            34.0                                    0   \n",
       "12708            50.0                                   10   \n",
       "12790            40.0                                    0   \n",
       "12849            80.0                                  516   \n",
       "\n",
       "       Total Number of Dead and Missing  Number of Survivors  \\\n",
       "45                                  251                   50   \n",
       "78                                   77                   53   \n",
       "94                                   62                    0   \n",
       "127                                  45                  566   \n",
       "173                                 251                   19   \n",
       "...                                 ...                  ...   \n",
       "12550                                98                   82   \n",
       "12592                                34                   23   \n",
       "12708                                60                    0   \n",
       "12790                                40                    0   \n",
       "12849                               596                  104   \n",
       "\n",
       "       Number of Females  Number of Males  Number of Children  \\\n",
       "45                     0                0                   0   \n",
       "78                     0                0                   0   \n",
       "94                     0                0                   0   \n",
       "127                    0               45                   0   \n",
       "173                    0                0                   1   \n",
       "...                  ...              ...                 ...   \n",
       "12550                  5                5                  30   \n",
       "12592                  0                0                   0   \n",
       "12708                  3               38                   0   \n",
       "12790                  0                0                   0   \n",
       "12849                  0                0                   0   \n",
       "\n",
       "                                          Cause of Death  \\\n",
       "45                                              Drowning   \n",
       "78                                              Drowning   \n",
       "94                                              Drowning   \n",
       "127    Vehicle accident / death linked to hazardous t...   \n",
       "173                                             Drowning   \n",
       "...                                                  ...   \n",
       "12550                                           Drowning   \n",
       "12592                                           Drowning   \n",
       "12708                                           Drowning   \n",
       "12790                                   Accidental death   \n",
       "12849                                           Drowning   \n",
       "\n",
       "                        Migration route  \\\n",
       "45            US-Mexico border crossing   \n",
       "78                Central Mediterranean   \n",
       "94     Horn of Africa to Yemen crossing   \n",
       "127               Central Mediterranean   \n",
       "173               Central Mediterranean   \n",
       "...                                 ...   \n",
       "12550             Central Mediterranean   \n",
       "12592         US-Mexico border crossing   \n",
       "12708             Central Mediterranean   \n",
       "12790         US-Mexico border crossing   \n",
       "12849             Central Mediterranean   \n",
       "\n",
       "                                       Location of death  \n",
       "45                               Lake Albert, Uganda/DRC  \n",
       "78                                        Coast of Libya  \n",
       "94                                          Gulf of Aden  \n",
       "127    Unspecified location between North Africa and ...  \n",
       "173      Off shores of al-Qarbouli, 50km east of Tripoli  \n",
       "...                                                  ...  \n",
       "12550  Around 150m off Steccato di Cutro, Crotone, Ca...  \n",
       "12592         Off the coast of Ankazomborona, Madagascar  \n",
       "12708                   Off the coast of Sabratah, Libya  \n",
       "12790  In an immigration detention center in Ciudad J...  \n",
       "12849  Off the coast of Kalamata, Greece. After depar...  \n",
       "\n",
       "[96 rows x 16 columns]"
      ]
     },
     "execution_count": 30,
     "metadata": {},
     "output_type": "execute_result"
    }
   ],
   "source": [
    "df[df['Number of Dead']>(up_lim)]"
   ]
  },
  {
   "cell_type": "code",
   "execution_count": 31,
   "id": "872cbcfa-1b7d-40a6-8ec1-46e48c417d5c",
   "metadata": {},
   "outputs": [
    {
     "data": {
      "text/html": [
       "<div>\n",
       "<style scoped>\n",
       "    .dataframe tbody tr th:only-of-type {\n",
       "        vertical-align: middle;\n",
       "    }\n",
       "\n",
       "    .dataframe tbody tr th {\n",
       "        vertical-align: top;\n",
       "    }\n",
       "\n",
       "    .dataframe thead th {\n",
       "        text-align: right;\n",
       "    }\n",
       "</style>\n",
       "<table border=\"1\" class=\"dataframe\">\n",
       "  <thead>\n",
       "    <tr style=\"text-align: right;\">\n",
       "      <th></th>\n",
       "      <th>Incident Type</th>\n",
       "      <th>Incident year</th>\n",
       "      <th>Reported Month</th>\n",
       "      <th>Region of Origin</th>\n",
       "      <th>Region of Incident</th>\n",
       "      <th>Country of Origin</th>\n",
       "      <th>Number of Dead</th>\n",
       "      <th>Minimum Estimated Number of Missing</th>\n",
       "      <th>Total Number of Dead and Missing</th>\n",
       "      <th>Number of Survivors</th>\n",
       "      <th>Number of Females</th>\n",
       "      <th>Number of Males</th>\n",
       "      <th>Number of Children</th>\n",
       "      <th>Cause of Death</th>\n",
       "      <th>Migration route</th>\n",
       "      <th>Location of death</th>\n",
       "    </tr>\n",
       "  </thead>\n",
       "  <tbody>\n",
       "  </tbody>\n",
       "</table>\n",
       "</div>"
      ],
      "text/plain": [
       "Empty DataFrame\n",
       "Columns: [Incident Type, Incident year, Reported Month, Region of Origin, Region of Incident, Country of Origin, Number of Dead, Minimum Estimated Number of Missing, Total Number of Dead and Missing, Number of Survivors, Number of Females, Number of Males, Number of Children, Cause of Death, Migration route, Location of death]\n",
       "Index: []"
      ]
     },
     "execution_count": 31,
     "metadata": {},
     "output_type": "execute_result"
    }
   ],
   "source": [
    "df[df['Number of Dead']<(low_lim)]"
   ]
  },
  {
   "cell_type": "code",
   "execution_count": 32,
   "id": "eaf8ad9c-d45c-4d8e-b1d4-bd0b04e72bdb",
   "metadata": {},
   "outputs": [
    {
     "name": "stdout",
     "output_type": "stream",
     "text": [
      "[251.0, 44.0, 62.0, 45.0, 170.0, 44.0, 42.0, 64.0, 70.0, 64.0, 41.0, 111.0, 42.0, 750.0, 36.0, 47.0, 106.0, 100.0, 40.0, 49.0, 52.0, 71.0, 111.0, 37.0, 61.0, 34.0, 95.0, 43.0, 57.0, 34.0, 36.0, 123.0, 36.0, 35.0, 39.0, 51.0, 133.0, 45.0, 34.0, 120.0, 204.0, 44.0, 97.0, 87.0, 54.0, 32.0, 74.0, 42.0, 33.0, 44.0, 40.0, 48.0, 52.0, 47.0, 84.0, 46.0, 38.0, 33.0, 52.0, 83.0, 75.0, 39.0, 33.0, 84.0, 64.0, 70.0, 53.0, 61.0, 38.0, 55.0, 33.0, 44.0, 41.0, 36.0, 167.0, 34.0, 43.0, 37.0, 56.0, 61.0, 50.0, 42.0, 53.0, 117.0, 32.0, 160.0, 36.0, 38.0, 39.0, 60.0, 41.0, 86.0, 34.0, 50.0, 40.0, 80.0]\n"
     ]
    }
   ],
   "source": [
    "outlier=[]\n",
    "for x in df['Number of Dead']:\n",
    "    if ((x>up_lim)or(x<low_lim)):\n",
    "        outlier.append(x)\n",
    "print(outlier)"
   ]
  },
  {
   "cell_type": "code",
   "execution_count": 33,
   "id": "0897ac1b-5b3e-47fc-9385-9f0410210114",
   "metadata": {},
   "outputs": [],
   "source": [
    "check=['Minimum Estimated Number of Missing','Total Number of Dead and Missing','Number of Survivors',\n",
    "       'Number of Females','Number of Males','Number of Children']"
   ]
  },
  {
   "cell_type": "code",
   "execution_count": 34,
   "id": "553b3a89-be03-4153-bcc9-d8588ad73b00",
   "metadata": {},
   "outputs": [],
   "source": [
    "z_score=np.abs(zscore(df[check]))"
   ]
  },
  {
   "cell_type": "code",
   "execution_count": 35,
   "id": "cfc6ca54-4715-4dda-9c20-3498cfbc2f89",
   "metadata": {},
   "outputs": [],
   "source": [
    "threshold=3"
   ]
  },
  {
   "cell_type": "code",
   "execution_count": 36,
   "id": "150c3f94-0f6d-46c2-8a1a-70fa71fd10ef",
   "metadata": {},
   "outputs": [],
   "source": [
    "outliers=np.where(z_score>threshold)"
   ]
  },
  {
   "cell_type": "code",
   "execution_count": 37,
   "id": "be501924-38a9-4d57-9870-4ad13969bfa2",
   "metadata": {},
   "outputs": [],
   "source": [
    "cleaned_data=df.drop(index=outliers[0])"
   ]
  },
  {
   "cell_type": "code",
   "execution_count": 38,
   "id": "fe686a73-4bb6-470b-9b87-3cfba27cdd04",
   "metadata": {},
   "outputs": [
    {
     "name": "stdout",
     "output_type": "stream",
     "text": [
      "Number of removed outliers:597\n",
      "Cleaned data shape:(12610, 16)\n"
     ]
    }
   ],
   "source": [
    "print(f\"Number of removed outliers:{len(outliers[0])}\")\n",
    "print(f\"Cleaned data shape:{cleaned_data.shape}\")"
   ]
  },
  {
   "cell_type": "markdown",
   "id": "b17512ae",
   "metadata": {},
   "source": [
    "### splitting data\n"
   ]
  },
  {
   "cell_type": "code",
   "execution_count": 39,
   "id": "69ba747c",
   "metadata": {},
   "outputs": [],
   "source": [
    "#splitting dataset in features and target variable\n",
    "x = df.drop(columns=['Number of Dead','Incident Type','Incident year','Reported Month',\n",
    "                     'Region of Origin','Region of Incident','Country of Origin','Cause of Death',\n",
    "                     'Migration route','Location of death'],axis=1) # Features\n",
    "y = df['Number of Dead'] # Target variable"
   ]
  },
  {
   "cell_type": "code",
   "execution_count": 40,
   "id": "fc2614f9",
   "metadata": {},
   "outputs": [
    {
     "data": {
      "text/html": [
       "<div>\n",
       "<style scoped>\n",
       "    .dataframe tbody tr th:only-of-type {\n",
       "        vertical-align: middle;\n",
       "    }\n",
       "\n",
       "    .dataframe tbody tr th {\n",
       "        vertical-align: top;\n",
       "    }\n",
       "\n",
       "    .dataframe thead th {\n",
       "        text-align: right;\n",
       "    }\n",
       "</style>\n",
       "<table border=\"1\" class=\"dataframe\">\n",
       "  <thead>\n",
       "    <tr style=\"text-align: right;\">\n",
       "      <th></th>\n",
       "      <th>Minimum Estimated Number of Missing</th>\n",
       "      <th>Total Number of Dead and Missing</th>\n",
       "      <th>Number of Survivors</th>\n",
       "      <th>Number of Females</th>\n",
       "      <th>Number of Males</th>\n",
       "      <th>Number of Children</th>\n",
       "    </tr>\n",
       "  </thead>\n",
       "  <tbody>\n",
       "    <tr>\n",
       "      <th>0</th>\n",
       "      <td>0</td>\n",
       "      <td>1</td>\n",
       "      <td>0</td>\n",
       "      <td>0</td>\n",
       "      <td>1</td>\n",
       "      <td>0</td>\n",
       "    </tr>\n",
       "    <tr>\n",
       "      <th>1</th>\n",
       "      <td>0</td>\n",
       "      <td>1</td>\n",
       "      <td>0</td>\n",
       "      <td>0</td>\n",
       "      <td>0</td>\n",
       "      <td>0</td>\n",
       "    </tr>\n",
       "    <tr>\n",
       "      <th>2</th>\n",
       "      <td>0</td>\n",
       "      <td>1</td>\n",
       "      <td>0</td>\n",
       "      <td>0</td>\n",
       "      <td>0</td>\n",
       "      <td>0</td>\n",
       "    </tr>\n",
       "    <tr>\n",
       "      <th>3</th>\n",
       "      <td>0</td>\n",
       "      <td>1</td>\n",
       "      <td>0</td>\n",
       "      <td>0</td>\n",
       "      <td>1</td>\n",
       "      <td>0</td>\n",
       "    </tr>\n",
       "    <tr>\n",
       "      <th>4</th>\n",
       "      <td>0</td>\n",
       "      <td>1</td>\n",
       "      <td>2</td>\n",
       "      <td>0</td>\n",
       "      <td>1</td>\n",
       "      <td>0</td>\n",
       "    </tr>\n",
       "    <tr>\n",
       "      <th>...</th>\n",
       "      <td>...</td>\n",
       "      <td>...</td>\n",
       "      <td>...</td>\n",
       "      <td>...</td>\n",
       "      <td>...</td>\n",
       "      <td>...</td>\n",
       "    </tr>\n",
       "    <tr>\n",
       "      <th>13015</th>\n",
       "      <td>0</td>\n",
       "      <td>4</td>\n",
       "      <td>0</td>\n",
       "      <td>0</td>\n",
       "      <td>4</td>\n",
       "      <td>0</td>\n",
       "    </tr>\n",
       "    <tr>\n",
       "      <th>13016</th>\n",
       "      <td>0</td>\n",
       "      <td>2</td>\n",
       "      <td>0</td>\n",
       "      <td>0</td>\n",
       "      <td>2</td>\n",
       "      <td>0</td>\n",
       "    </tr>\n",
       "    <tr>\n",
       "      <th>13017</th>\n",
       "      <td>0</td>\n",
       "      <td>13</td>\n",
       "      <td>6</td>\n",
       "      <td>0</td>\n",
       "      <td>0</td>\n",
       "      <td>0</td>\n",
       "    </tr>\n",
       "    <tr>\n",
       "      <th>13018</th>\n",
       "      <td>0</td>\n",
       "      <td>6</td>\n",
       "      <td>48</td>\n",
       "      <td>0</td>\n",
       "      <td>0</td>\n",
       "      <td>0</td>\n",
       "    </tr>\n",
       "    <tr>\n",
       "      <th>13019</th>\n",
       "      <td>37</td>\n",
       "      <td>53</td>\n",
       "      <td>2</td>\n",
       "      <td>2</td>\n",
       "      <td>0</td>\n",
       "      <td>0</td>\n",
       "    </tr>\n",
       "  </tbody>\n",
       "</table>\n",
       "<p>13020 rows × 6 columns</p>\n",
       "</div>"
      ],
      "text/plain": [
       "       Minimum Estimated Number of Missing  Total Number of Dead and Missing  \\\n",
       "0                                        0                                 1   \n",
       "1                                        0                                 1   \n",
       "2                                        0                                 1   \n",
       "3                                        0                                 1   \n",
       "4                                        0                                 1   \n",
       "...                                    ...                               ...   \n",
       "13015                                    0                                 4   \n",
       "13016                                    0                                 2   \n",
       "13017                                    0                                13   \n",
       "13018                                    0                                 6   \n",
       "13019                                   37                                53   \n",
       "\n",
       "       Number of Survivors  Number of Females  Number of Males  \\\n",
       "0                        0                  0                1   \n",
       "1                        0                  0                0   \n",
       "2                        0                  0                0   \n",
       "3                        0                  0                1   \n",
       "4                        2                  0                1   \n",
       "...                    ...                ...              ...   \n",
       "13015                    0                  0                4   \n",
       "13016                    0                  0                2   \n",
       "13017                    6                  0                0   \n",
       "13018                   48                  0                0   \n",
       "13019                    2                  2                0   \n",
       "\n",
       "       Number of Children  \n",
       "0                       0  \n",
       "1                       0  \n",
       "2                       0  \n",
       "3                       0  \n",
       "4                       0  \n",
       "...                   ...  \n",
       "13015                   0  \n",
       "13016                   0  \n",
       "13017                   0  \n",
       "13018                   0  \n",
       "13019                   0  \n",
       "\n",
       "[13020 rows x 6 columns]"
      ]
     },
     "execution_count": 40,
     "metadata": {},
     "output_type": "execute_result"
    }
   ],
   "source": [
    "#printing x\n",
    "x"
   ]
  },
  {
   "cell_type": "code",
   "execution_count": 41,
   "id": "26cdec67",
   "metadata": {},
   "outputs": [
    {
     "data": {
      "text/plain": [
       "0         1.0\n",
       "1         1.0\n",
       "2         1.0\n",
       "3         1.0\n",
       "4         1.0\n",
       "         ... \n",
       "13015     4.0\n",
       "13016     2.0\n",
       "13017    13.0\n",
       "13018     6.0\n",
       "13019    16.0\n",
       "Name: Number of Dead, Length: 13020, dtype: float64"
      ]
     },
     "execution_count": 41,
     "metadata": {},
     "output_type": "execute_result"
    }
   ],
   "source": [
    "#printing y\n",
    "y"
   ]
  },
  {
   "cell_type": "code",
   "execution_count": 42,
   "id": "20dccf2e-2c46-4ccd-ae01-70528646eab5",
   "metadata": {},
   "outputs": [
    {
     "data": {
      "text/plain": [
       "dtype('int32')"
      ]
     },
     "execution_count": 42,
     "metadata": {},
     "output_type": "execute_result"
    }
   ],
   "source": [
    "#Changing y datatype\n",
    "y = y.astype(int)\n",
    "y.dtypes"
   ]
  },
  {
   "cell_type": "code",
   "execution_count": 43,
   "id": "d8207112",
   "metadata": {},
   "outputs": [
    {
     "data": {
      "text/plain": [
       "Minimum Estimated Number of Missing    int32\n",
       "Total Number of Dead and Missing       int32\n",
       "Number of Survivors                    int32\n",
       "Number of Females                      int32\n",
       "Number of Males                        int32\n",
       "Number of Children                     int32\n",
       "dtype: object"
      ]
     },
     "execution_count": 43,
     "metadata": {},
     "output_type": "execute_result"
    }
   ],
   "source": [
    "#Changing x datatype\n",
    "x = x.astype(int)\n",
    "x.dtypes"
   ]
  },
  {
   "cell_type": "code",
   "execution_count": 44,
   "id": "a339b216",
   "metadata": {},
   "outputs": [],
   "source": [
    "#Train test Split Method\n",
    "x_train, x_test, y_train, y_test = train_test_split(x, y, test_size=0.2, random_state=50)"
   ]
  },
  {
   "cell_type": "code",
   "execution_count": 45,
   "id": "f15fa2df",
   "metadata": {},
   "outputs": [
    {
     "name": "stdout",
     "output_type": "stream",
     "text": [
      "(10416, 6) (2604, 6)\n"
     ]
    }
   ],
   "source": [
    "print(x_train.shape, x_test.shape)"
   ]
  },
  {
   "cell_type": "code",
   "execution_count": 46,
   "id": "7c3af520-5556-4248-8d04-7eb11830f75e",
   "metadata": {},
   "outputs": [],
   "source": [
    "scaler=StandardScaler()"
   ]
  },
  {
   "cell_type": "code",
   "execution_count": 47,
   "id": "13be6b09-a0d5-4af7-a6eb-575359bfee3b",
   "metadata": {},
   "outputs": [],
   "source": [
    "x_train=scaler.fit_transform(x_train)\n",
    "x_test=scaler.fit_transform(x_test)"
   ]
  },
  {
   "cell_type": "code",
   "execution_count": 48,
   "id": "36eae538",
   "metadata": {},
   "outputs": [],
   "source": [
    "#model training \n",
    "model = LogisticRegression()"
   ]
  },
  {
   "cell_type": "code",
   "execution_count": 49,
   "id": "de4a5067-9c8a-4907-a932-58a2752bbc3d",
   "metadata": {},
   "outputs": [
    {
     "name": "stderr",
     "output_type": "stream",
     "text": [
      "C:\\Users\\gvais\\AppData\\Local\\Programs\\Python\\Python310\\lib\\site-packages\\sklearn\\linear_model\\_logistic.py:460: ConvergenceWarning: lbfgs failed to converge (status=1):\n",
      "STOP: TOTAL NO. of ITERATIONS REACHED LIMIT.\n",
      "\n",
      "Increase the number of iterations (max_iter) or scale the data as shown in:\n",
      "    https://scikit-learn.org/stable/modules/preprocessing.html\n",
      "Please also refer to the documentation for alternative solver options:\n",
      "    https://scikit-learn.org/stable/modules/linear_model.html#logistic-regression\n",
      "  n_iter_i = _check_optimize_result(\n"
     ]
    },
    {
     "data": {
      "text/html": [
       "<style>#sk-container-id-1 {color: black;}#sk-container-id-1 pre{padding: 0;}#sk-container-id-1 div.sk-toggleable {background-color: white;}#sk-container-id-1 label.sk-toggleable__label {cursor: pointer;display: block;width: 100%;margin-bottom: 0;padding: 0.3em;box-sizing: border-box;text-align: center;}#sk-container-id-1 label.sk-toggleable__label-arrow:before {content: \"▸\";float: left;margin-right: 0.25em;color: #696969;}#sk-container-id-1 label.sk-toggleable__label-arrow:hover:before {color: black;}#sk-container-id-1 div.sk-estimator:hover label.sk-toggleable__label-arrow:before {color: black;}#sk-container-id-1 div.sk-toggleable__content {max-height: 0;max-width: 0;overflow: hidden;text-align: left;background-color: #f0f8ff;}#sk-container-id-1 div.sk-toggleable__content pre {margin: 0.2em;color: black;border-radius: 0.25em;background-color: #f0f8ff;}#sk-container-id-1 input.sk-toggleable__control:checked~div.sk-toggleable__content {max-height: 200px;max-width: 100%;overflow: auto;}#sk-container-id-1 input.sk-toggleable__control:checked~label.sk-toggleable__label-arrow:before {content: \"▾\";}#sk-container-id-1 div.sk-estimator input.sk-toggleable__control:checked~label.sk-toggleable__label {background-color: #d4ebff;}#sk-container-id-1 div.sk-label input.sk-toggleable__control:checked~label.sk-toggleable__label {background-color: #d4ebff;}#sk-container-id-1 input.sk-hidden--visually {border: 0;clip: rect(1px 1px 1px 1px);clip: rect(1px, 1px, 1px, 1px);height: 1px;margin: -1px;overflow: hidden;padding: 0;position: absolute;width: 1px;}#sk-container-id-1 div.sk-estimator {font-family: monospace;background-color: #f0f8ff;border: 1px dotted black;border-radius: 0.25em;box-sizing: border-box;margin-bottom: 0.5em;}#sk-container-id-1 div.sk-estimator:hover {background-color: #d4ebff;}#sk-container-id-1 div.sk-parallel-item::after {content: \"\";width: 100%;border-bottom: 1px solid gray;flex-grow: 1;}#sk-container-id-1 div.sk-label:hover label.sk-toggleable__label {background-color: #d4ebff;}#sk-container-id-1 div.sk-serial::before {content: \"\";position: absolute;border-left: 1px solid gray;box-sizing: border-box;top: 0;bottom: 0;left: 50%;z-index: 0;}#sk-container-id-1 div.sk-serial {display: flex;flex-direction: column;align-items: center;background-color: white;padding-right: 0.2em;padding-left: 0.2em;position: relative;}#sk-container-id-1 div.sk-item {position: relative;z-index: 1;}#sk-container-id-1 div.sk-parallel {display: flex;align-items: stretch;justify-content: center;background-color: white;position: relative;}#sk-container-id-1 div.sk-item::before, #sk-container-id-1 div.sk-parallel-item::before {content: \"\";position: absolute;border-left: 1px solid gray;box-sizing: border-box;top: 0;bottom: 0;left: 50%;z-index: -1;}#sk-container-id-1 div.sk-parallel-item {display: flex;flex-direction: column;z-index: 1;position: relative;background-color: white;}#sk-container-id-1 div.sk-parallel-item:first-child::after {align-self: flex-end;width: 50%;}#sk-container-id-1 div.sk-parallel-item:last-child::after {align-self: flex-start;width: 50%;}#sk-container-id-1 div.sk-parallel-item:only-child::after {width: 0;}#sk-container-id-1 div.sk-dashed-wrapped {border: 1px dashed gray;margin: 0 0.4em 0.5em 0.4em;box-sizing: border-box;padding-bottom: 0.4em;background-color: white;}#sk-container-id-1 div.sk-label label {font-family: monospace;font-weight: bold;display: inline-block;line-height: 1.2em;}#sk-container-id-1 div.sk-label-container {text-align: center;}#sk-container-id-1 div.sk-container {/* jupyter's `normalize.less` sets `[hidden] { display: none; }` but bootstrap.min.css set `[hidden] { display: none !important; }` so we also need the `!important` here to be able to override the default hidden behavior on the sphinx rendered scikit-learn.org. See: https://github.com/scikit-learn/scikit-learn/issues/21755 */display: inline-block !important;position: relative;}#sk-container-id-1 div.sk-text-repr-fallback {display: none;}</style><div id=\"sk-container-id-1\" class=\"sk-top-container\"><div class=\"sk-text-repr-fallback\"><pre>LogisticRegression()</pre><b>In a Jupyter environment, please rerun this cell to show the HTML representation or trust the notebook. <br />On GitHub, the HTML representation is unable to render, please try loading this page with nbviewer.org.</b></div><div class=\"sk-container\" hidden><div class=\"sk-item\"><div class=\"sk-estimator sk-toggleable\"><input class=\"sk-toggleable__control sk-hidden--visually\" id=\"sk-estimator-id-1\" type=\"checkbox\" checked><label for=\"sk-estimator-id-1\" class=\"sk-toggleable__label sk-toggleable__label-arrow\">LogisticRegression</label><div class=\"sk-toggleable__content\"><pre>LogisticRegression()</pre></div></div></div></div></div>"
      ],
      "text/plain": [
       "LogisticRegression()"
      ]
     },
     "execution_count": 49,
     "metadata": {},
     "output_type": "execute_result"
    }
   ],
   "source": [
    "#Fitting model into Logistic Regression\n",
    "model.fit(x_train, y_train)"
   ]
  },
  {
   "cell_type": "code",
   "execution_count": 50,
   "id": "273098fd",
   "metadata": {},
   "outputs": [
    {
     "data": {
      "text/plain": [
       "array([1, 1, 1, ..., 1, 1, 1])"
      ]
     },
     "execution_count": 50,
     "metadata": {},
     "output_type": "execute_result"
    }
   ],
   "source": [
    "#prediction of y_train \n",
    "y_train_prediction = model.predict(x_test)\n",
    "y_train_prediction"
   ]
  },
  {
   "cell_type": "code",
   "execution_count": 51,
   "id": "b12e5c7e",
   "metadata": {},
   "outputs": [
    {
     "data": {
      "text/plain": [
       "array([1, 1, 1, ..., 1, 1, 1])"
      ]
     },
     "execution_count": 51,
     "metadata": {},
     "output_type": "execute_result"
    }
   ],
   "source": [
    "#prediction of x_train \n",
    "x_train_prediction = model.predict(x_train)\n",
    "x_train_prediction"
   ]
  },
  {
   "cell_type": "code",
   "execution_count": 52,
   "id": "b3047ea0",
   "metadata": {},
   "outputs": [
    {
     "name": "stdout",
     "output_type": "stream",
     "text": [
      "Accuracy Score of Training Data:  0.7268625192012289\n"
     ]
    }
   ],
   "source": [
    "#Calculating accuracy score using y_train and x_train  \n",
    "training_data_accuracy = accuracy_score(y_train, x_train_prediction)\n",
    "print(\"Accuracy Score of Training Data: \", training_data_accuracy)"
   ]
  },
  {
   "cell_type": "code",
   "execution_count": 53,
   "id": "bb0deee0",
   "metadata": {},
   "outputs": [
    {
     "data": {
      "text/plain": [
       "array([1, 1, 1, ..., 1, 1, 1])"
      ]
     },
     "execution_count": 53,
     "metadata": {},
     "output_type": "execute_result"
    }
   ],
   "source": [
    "#prediction of x_test \n",
    "x_test_prediction = model.predict(x_test)\n",
    "x_test_prediction"
   ]
  },
  {
   "cell_type": "code",
   "execution_count": 54,
   "id": "977b7038",
   "metadata": {},
   "outputs": [
    {
     "name": "stdout",
     "output_type": "stream",
     "text": [
      "0.7261904761904762\n"
     ]
    }
   ],
   "source": [
    "#Calculating accuracy score using y_train and y_test  \n",
    "score=accuracy_score(y_train_prediction,y_test)\n",
    "print(score)"
   ]
  },
  {
   "cell_type": "code",
   "execution_count": 55,
   "id": "0871eff0-38df-47a8-b1fb-3ab79a59ccef",
   "metadata": {},
   "outputs": [
    {
     "name": "stdout",
     "output_type": "stream",
     "text": [
      "Mean absolute error : 0.9976958525345622\n",
      "Mean squared error : 16.930875576036865\n",
      "Root Mean squared error : 4.114714519384894\n"
     ]
    }
   ],
   "source": [
    "error=mae(y_train_prediction,y_test)\n",
    "print(\"Mean absolute error : \" + str(error))\n",
    "error1=mse(y_train_prediction,y_test)\n",
    "print(\"Mean squared error : \" + str(error1))\n",
    "rmse=np.sqrt(error1)\n",
    "print(\"Root Mean squared error : \"+str(rmse))"
   ]
  },
  {
   "cell_type": "code",
   "execution_count": 56,
   "id": "c1da0fe1-6086-486a-b840-6a19eba80ac3",
   "metadata": {},
   "outputs": [
    {
     "data": {
      "text/plain": [
       "array([[   0,    2,    1, ...,    0,    0,    0],\n",
       "       [   0, 1883,   17, ...,    0,    0,    0],\n",
       "       [   0,  263,    5, ...,    0,    0,    0],\n",
       "       ...,\n",
       "       [   0,    0,    0, ...,    0,    0,    0],\n",
       "       [   0,    0,    0, ...,    0,    0,    0],\n",
       "       [   0,    0,    0, ...,    0,    0,    0]], dtype=int64)"
      ]
     },
     "execution_count": 56,
     "metadata": {},
     "output_type": "execute_result"
    }
   ],
   "source": [
    "#using confusion matrix to find the number of correct and incorrect predictions summed up class-wise\n",
    "cnf_matrix = metrics.confusion_matrix(y_test, y_train_prediction)\n",
    "cnf_matrix"
   ]
  },
  {
   "cell_type": "code",
   "execution_count": 57,
   "id": "e932be5b",
   "metadata": {},
   "outputs": [
    {
     "name": "stdout",
     "output_type": "stream",
     "text": [
      "              precision    recall  f1-score   support\n",
      "\n",
      "           0       0.00      0.00      0.00         0\n",
      "           1       0.98      0.84      0.91      2245\n",
      "           2       0.02      0.03      0.02       163\n",
      "           3       0.01      0.01      0.01        93\n",
      "           4       0.00      0.00      0.00         0\n",
      "           5       0.00      0.00      0.00        36\n",
      "           6       0.00      0.00      0.00        17\n",
      "           7       0.00      0.00      0.00         4\n",
      "           8       0.00      0.00      0.00         0\n",
      "           9       0.00      0.00      0.00         5\n",
      "          10       0.14      0.12      0.13        16\n",
      "          11       0.00      0.00      0.00         1\n",
      "          12       0.00      0.00      0.00         2\n",
      "          13       0.00      0.00      0.00         1\n",
      "          14       0.00      0.00      0.00         0\n",
      "          15       0.00      0.00      0.00         0\n",
      "          16       0.00      0.00      0.00         1\n",
      "          17       0.00      0.00      0.00         0\n",
      "          18       0.00      0.00      0.00         0\n",
      "          19       0.00      0.00      0.00         0\n",
      "          20       0.00      0.00      0.00         6\n",
      "          21       0.00      0.00      0.00         1\n",
      "          22       0.00      0.00      0.00         0\n",
      "          23       0.00      0.00      0.00         1\n",
      "          24       0.00      0.00      0.00         0\n",
      "          25       0.00      0.00      0.00         0\n",
      "          26       0.00      0.00      0.00         0\n",
      "          27       0.00      0.00      0.00         3\n",
      "          28       0.00      0.00      0.00         0\n",
      "          29       0.00      0.00      0.00         3\n",
      "          30       0.00      0.00      0.00         3\n",
      "          32       0.00      0.00      0.00         0\n",
      "          36       0.00      0.00      0.00         0\n",
      "          41       0.00      0.00      0.00         0\n",
      "          42       0.00      0.00      0.00         1\n",
      "          44       0.00      0.00      0.00         0\n",
      "          45       0.00      0.00      0.00         0\n",
      "          49       0.00      0.00      0.00         0\n",
      "          50       0.00      0.00      0.00         0\n",
      "          53       0.00      0.00      0.00         0\n",
      "          56       0.00      0.00      0.00         0\n",
      "          60       0.00      0.00      0.00         0\n",
      "          61       0.00      0.00      0.00         0\n",
      "          64       0.00      0.00      0.00         2\n",
      "          70       0.00      0.00      0.00         0\n",
      "          71       0.00      0.00      0.00         0\n",
      "          84       0.00      0.00      0.00         0\n",
      "          97       0.00      0.00      0.00         0\n",
      "         117       0.00      0.00      0.00         0\n",
      "         120       0.00      0.00      0.00         0\n",
      "\n",
      "    accuracy                           0.73      2604\n",
      "   macro avg       0.02      0.02      0.02      2604\n",
      "weighted avg       0.85      0.73      0.78      2604\n",
      "\n"
     ]
    },
    {
     "name": "stderr",
     "output_type": "stream",
     "text": [
      "C:\\Users\\gvais\\AppData\\Local\\Programs\\Python\\Python310\\lib\\site-packages\\sklearn\\metrics\\_classification.py:1469: UndefinedMetricWarning: Precision and F-score are ill-defined and being set to 0.0 in labels with no predicted samples. Use `zero_division` parameter to control this behavior.\n",
      "  _warn_prf(average, modifier, msg_start, len(result))\n",
      "C:\\Users\\gvais\\AppData\\Local\\Programs\\Python\\Python310\\lib\\site-packages\\sklearn\\metrics\\_classification.py:1469: UndefinedMetricWarning: Recall and F-score are ill-defined and being set to 0.0 in labels with no true samples. Use `zero_division` parameter to control this behavior.\n",
      "  _warn_prf(average, modifier, msg_start, len(result))\n",
      "C:\\Users\\gvais\\AppData\\Local\\Programs\\Python\\Python310\\lib\\site-packages\\sklearn\\metrics\\_classification.py:1469: UndefinedMetricWarning: Precision and F-score are ill-defined and being set to 0.0 in labels with no predicted samples. Use `zero_division` parameter to control this behavior.\n",
      "  _warn_prf(average, modifier, msg_start, len(result))\n",
      "C:\\Users\\gvais\\AppData\\Local\\Programs\\Python\\Python310\\lib\\site-packages\\sklearn\\metrics\\_classification.py:1469: UndefinedMetricWarning: Recall and F-score are ill-defined and being set to 0.0 in labels with no true samples. Use `zero_division` parameter to control this behavior.\n",
      "  _warn_prf(average, modifier, msg_start, len(result))\n",
      "C:\\Users\\gvais\\AppData\\Local\\Programs\\Python\\Python310\\lib\\site-packages\\sklearn\\metrics\\_classification.py:1469: UndefinedMetricWarning: Precision and F-score are ill-defined and being set to 0.0 in labels with no predicted samples. Use `zero_division` parameter to control this behavior.\n",
      "  _warn_prf(average, modifier, msg_start, len(result))\n",
      "C:\\Users\\gvais\\AppData\\Local\\Programs\\Python\\Python310\\lib\\site-packages\\sklearn\\metrics\\_classification.py:1469: UndefinedMetricWarning: Recall and F-score are ill-defined and being set to 0.0 in labels with no true samples. Use `zero_division` parameter to control this behavior.\n",
      "  _warn_prf(average, modifier, msg_start, len(result))\n"
     ]
    }
   ],
   "source": [
    "#Preparing classification report\n",
    "print(classification_report(y_train_prediction,y_test))"
   ]
  },
  {
   "cell_type": "code",
   "execution_count": 58,
   "id": "9912905d-23f8-4fe3-b6b4-9dd58297ab1c",
   "metadata": {},
   "outputs": [
    {
     "data": {
      "text/html": [
       "<style>#sk-container-id-2 {color: black;}#sk-container-id-2 pre{padding: 0;}#sk-container-id-2 div.sk-toggleable {background-color: white;}#sk-container-id-2 label.sk-toggleable__label {cursor: pointer;display: block;width: 100%;margin-bottom: 0;padding: 0.3em;box-sizing: border-box;text-align: center;}#sk-container-id-2 label.sk-toggleable__label-arrow:before {content: \"▸\";float: left;margin-right: 0.25em;color: #696969;}#sk-container-id-2 label.sk-toggleable__label-arrow:hover:before {color: black;}#sk-container-id-2 div.sk-estimator:hover label.sk-toggleable__label-arrow:before {color: black;}#sk-container-id-2 div.sk-toggleable__content {max-height: 0;max-width: 0;overflow: hidden;text-align: left;background-color: #f0f8ff;}#sk-container-id-2 div.sk-toggleable__content pre {margin: 0.2em;color: black;border-radius: 0.25em;background-color: #f0f8ff;}#sk-container-id-2 input.sk-toggleable__control:checked~div.sk-toggleable__content {max-height: 200px;max-width: 100%;overflow: auto;}#sk-container-id-2 input.sk-toggleable__control:checked~label.sk-toggleable__label-arrow:before {content: \"▾\";}#sk-container-id-2 div.sk-estimator input.sk-toggleable__control:checked~label.sk-toggleable__label {background-color: #d4ebff;}#sk-container-id-2 div.sk-label input.sk-toggleable__control:checked~label.sk-toggleable__label {background-color: #d4ebff;}#sk-container-id-2 input.sk-hidden--visually {border: 0;clip: rect(1px 1px 1px 1px);clip: rect(1px, 1px, 1px, 1px);height: 1px;margin: -1px;overflow: hidden;padding: 0;position: absolute;width: 1px;}#sk-container-id-2 div.sk-estimator {font-family: monospace;background-color: #f0f8ff;border: 1px dotted black;border-radius: 0.25em;box-sizing: border-box;margin-bottom: 0.5em;}#sk-container-id-2 div.sk-estimator:hover {background-color: #d4ebff;}#sk-container-id-2 div.sk-parallel-item::after {content: \"\";width: 100%;border-bottom: 1px solid gray;flex-grow: 1;}#sk-container-id-2 div.sk-label:hover label.sk-toggleable__label {background-color: #d4ebff;}#sk-container-id-2 div.sk-serial::before {content: \"\";position: absolute;border-left: 1px solid gray;box-sizing: border-box;top: 0;bottom: 0;left: 50%;z-index: 0;}#sk-container-id-2 div.sk-serial {display: flex;flex-direction: column;align-items: center;background-color: white;padding-right: 0.2em;padding-left: 0.2em;position: relative;}#sk-container-id-2 div.sk-item {position: relative;z-index: 1;}#sk-container-id-2 div.sk-parallel {display: flex;align-items: stretch;justify-content: center;background-color: white;position: relative;}#sk-container-id-2 div.sk-item::before, #sk-container-id-2 div.sk-parallel-item::before {content: \"\";position: absolute;border-left: 1px solid gray;box-sizing: border-box;top: 0;bottom: 0;left: 50%;z-index: -1;}#sk-container-id-2 div.sk-parallel-item {display: flex;flex-direction: column;z-index: 1;position: relative;background-color: white;}#sk-container-id-2 div.sk-parallel-item:first-child::after {align-self: flex-end;width: 50%;}#sk-container-id-2 div.sk-parallel-item:last-child::after {align-self: flex-start;width: 50%;}#sk-container-id-2 div.sk-parallel-item:only-child::after {width: 0;}#sk-container-id-2 div.sk-dashed-wrapped {border: 1px dashed gray;margin: 0 0.4em 0.5em 0.4em;box-sizing: border-box;padding-bottom: 0.4em;background-color: white;}#sk-container-id-2 div.sk-label label {font-family: monospace;font-weight: bold;display: inline-block;line-height: 1.2em;}#sk-container-id-2 div.sk-label-container {text-align: center;}#sk-container-id-2 div.sk-container {/* jupyter's `normalize.less` sets `[hidden] { display: none; }` but bootstrap.min.css set `[hidden] { display: none !important; }` so we also need the `!important` here to be able to override the default hidden behavior on the sphinx rendered scikit-learn.org. See: https://github.com/scikit-learn/scikit-learn/issues/21755 */display: inline-block !important;position: relative;}#sk-container-id-2 div.sk-text-repr-fallback {display: none;}</style><div id=\"sk-container-id-2\" class=\"sk-top-container\"><div class=\"sk-text-repr-fallback\"><pre>RandomForestClassifier(max_depth=2, random_state=50)</pre><b>In a Jupyter environment, please rerun this cell to show the HTML representation or trust the notebook. <br />On GitHub, the HTML representation is unable to render, please try loading this page with nbviewer.org.</b></div><div class=\"sk-container\" hidden><div class=\"sk-item\"><div class=\"sk-estimator sk-toggleable\"><input class=\"sk-toggleable__control sk-hidden--visually\" id=\"sk-estimator-id-2\" type=\"checkbox\" checked><label for=\"sk-estimator-id-2\" class=\"sk-toggleable__label sk-toggleable__label-arrow\">RandomForestClassifier</label><div class=\"sk-toggleable__content\"><pre>RandomForestClassifier(max_depth=2, random_state=50)</pre></div></div></div></div></div>"
      ],
      "text/plain": [
       "RandomForestClassifier(max_depth=2, random_state=50)"
      ]
     },
     "execution_count": 58,
     "metadata": {},
     "output_type": "execute_result"
    }
   ],
   "source": [
    "x, y = make_classification(n_samples=1000, n_features=6,n_informative=2, n_redundant=0,random_state=0, shuffle=False)\n",
    "clf = RandomForestClassifier(max_depth=2, random_state=50)\n",
    "clf.fit(x, y)"
   ]
  },
  {
   "cell_type": "code",
   "execution_count": 59,
   "id": "5a8e6371-9d39-4b5f-902c-8d4bc649b44e",
   "metadata": {},
   "outputs": [
    {
     "data": {
      "text/plain": [
       "array([1, 1, 1, ..., 1, 1, 1])"
      ]
     },
     "execution_count": 59,
     "metadata": {},
     "output_type": "execute_result"
    }
   ],
   "source": [
    "y_train_prediction = clf.predict(x_test)\n",
    "y_train_prediction"
   ]
  },
  {
   "cell_type": "code",
   "execution_count": 60,
   "id": "87df3e91-f47a-4d2d-9a2b-90254d90776e",
   "metadata": {},
   "outputs": [
    {
     "data": {
      "text/plain": [
       "array([1, 1, 1, ..., 1, 1, 1])"
      ]
     },
     "execution_count": 60,
     "metadata": {},
     "output_type": "execute_result"
    }
   ],
   "source": [
    "#prediction of x_train \n",
    "x_train_prediction = model.predict(x_train)\n",
    "x_train_prediction"
   ]
  },
  {
   "cell_type": "code",
   "execution_count": 61,
   "id": "17da80f0-3160-4a4c-9909-9e143d83d45d",
   "metadata": {},
   "outputs": [
    {
     "name": "stdout",
     "output_type": "stream",
     "text": [
      "Accuracy Score of Training Data:  0.7268625192012289\n"
     ]
    }
   ],
   "source": [
    "training_data_accuracy = accuracy_score(y_train, x_train_prediction)\n",
    "print(\"Accuracy Score of Training Data: \", training_data_accuracy)"
   ]
  },
  {
   "cell_type": "code",
   "execution_count": 62,
   "id": "733fe2ee-55a6-4790-bf29-086eab9f5d2b",
   "metadata": {},
   "outputs": [
    {
     "data": {
      "text/plain": [
       "array([1, 1, 1, ..., 1, 1, 1])"
      ]
     },
     "execution_count": 62,
     "metadata": {},
     "output_type": "execute_result"
    }
   ],
   "source": [
    "x_test_prediction = clf.predict(x_test)\n",
    "x_test_prediction"
   ]
  },
  {
   "cell_type": "code",
   "execution_count": 63,
   "id": "5f122375-e4ae-4b04-a00f-8f6c0370416d",
   "metadata": {},
   "outputs": [
    {
     "name": "stdout",
     "output_type": "stream",
     "text": [
      "0.7354070660522274\n"
     ]
    }
   ],
   "source": [
    "score=accuracy_score(y_train_prediction,y_test)\n",
    "print(score)"
   ]
  },
  {
   "cell_type": "code",
   "execution_count": 64,
   "id": "19a09205-0001-44d1-801a-394a7761ca04",
   "metadata": {},
   "outputs": [
    {
     "name": "stdout",
     "output_type": "stream",
     "text": [
      "Mean absolute error : 1.3836405529953917\n",
      "Mean squared error : 39.61943164362519\n",
      "Root Mean squared error : 6.294396845101617\n"
     ]
    }
   ],
   "source": [
    "error=mae(y_train_prediction,y_test)\n",
    "print(\"Mean absolute error : \" + str(error))\n",
    "error1=mse(y_train_prediction,y_test)\n",
    "print(\"Mean squared error : \" + str(error1))\n",
    "rmse=np.sqrt(error1)\n",
    "print(\"Root Mean squared error : \"+str(rmse))"
   ]
  },
  {
   "cell_type": "code",
   "execution_count": 65,
   "id": "b1333780-1979-4eec-9f28-05a164072ff7",
   "metadata": {},
   "outputs": [
    {
     "data": {
      "text/plain": [
       "array([[   0,    6,    0, ...,    0,    0,    0],\n",
       "       [   0, 1915,    0, ...,    0,    0,    0],\n",
       "       [   0,  275,    0, ...,    0,    0,    0],\n",
       "       ...,\n",
       "       [   0,    1,    0, ...,    0,    0,    0],\n",
       "       [   0,    1,    0, ...,    0,    0,    0],\n",
       "       [   0,    1,    0, ...,    0,    0,    0]], dtype=int64)"
      ]
     },
     "execution_count": 65,
     "metadata": {},
     "output_type": "execute_result"
    }
   ],
   "source": [
    "cnf_matrix = metrics.confusion_matrix(y_test, y_train_prediction)\n",
    "cnf_matrix"
   ]
  },
  {
   "cell_type": "code",
   "execution_count": 66,
   "id": "469e2a38-4719-412c-9052-d0e149bb1b66",
   "metadata": {},
   "outputs": [
    {
     "name": "stdout",
     "output_type": "stream",
     "text": [
      "              precision    recall  f1-score   support\n",
      "\n",
      "           0       0.00      0.00      0.00         0\n",
      "           1       1.00      0.74      0.85      2604\n",
      "           2       0.00      0.00      0.00         0\n",
      "           3       0.00      0.00      0.00         0\n",
      "           4       0.00      0.00      0.00         0\n",
      "           5       0.00      0.00      0.00         0\n",
      "           6       0.00      0.00      0.00         0\n",
      "           7       0.00      0.00      0.00         0\n",
      "           8       0.00      0.00      0.00         0\n",
      "           9       0.00      0.00      0.00         0\n",
      "          10       0.00      0.00      0.00         0\n",
      "          11       0.00      0.00      0.00         0\n",
      "          12       0.00      0.00      0.00         0\n",
      "          13       0.00      0.00      0.00         0\n",
      "          14       0.00      0.00      0.00         0\n",
      "          15       0.00      0.00      0.00         0\n",
      "          16       0.00      0.00      0.00         0\n",
      "          17       0.00      0.00      0.00         0\n",
      "          18       0.00      0.00      0.00         0\n",
      "          19       0.00      0.00      0.00         0\n",
      "          20       0.00      0.00      0.00         0\n",
      "          21       0.00      0.00      0.00         0\n",
      "          22       0.00      0.00      0.00         0\n",
      "          23       0.00      0.00      0.00         0\n",
      "          24       0.00      0.00      0.00         0\n",
      "          25       0.00      0.00      0.00         0\n",
      "          26       0.00      0.00      0.00         0\n",
      "          27       0.00      0.00      0.00         0\n",
      "          28       0.00      0.00      0.00         0\n",
      "          30       0.00      0.00      0.00         0\n",
      "          32       0.00      0.00      0.00         0\n",
      "          36       0.00      0.00      0.00         0\n",
      "          41       0.00      0.00      0.00         0\n",
      "          44       0.00      0.00      0.00         0\n",
      "          45       0.00      0.00      0.00         0\n",
      "          49       0.00      0.00      0.00         0\n",
      "          50       0.00      0.00      0.00         0\n",
      "          53       0.00      0.00      0.00         0\n",
      "          56       0.00      0.00      0.00         0\n",
      "          60       0.00      0.00      0.00         0\n",
      "          61       0.00      0.00      0.00         0\n",
      "          70       0.00      0.00      0.00         0\n",
      "          71       0.00      0.00      0.00         0\n",
      "          84       0.00      0.00      0.00         0\n",
      "          97       0.00      0.00      0.00         0\n",
      "         117       0.00      0.00      0.00         0\n",
      "         120       0.00      0.00      0.00         0\n",
      "\n",
      "    accuracy                           0.74      2604\n",
      "   macro avg       0.02      0.02      0.02      2604\n",
      "weighted avg       1.00      0.74      0.85      2604\n",
      "\n"
     ]
    },
    {
     "name": "stderr",
     "output_type": "stream",
     "text": [
      "C:\\Users\\gvais\\AppData\\Local\\Programs\\Python\\Python310\\lib\\site-packages\\sklearn\\metrics\\_classification.py:1469: UndefinedMetricWarning: Recall and F-score are ill-defined and being set to 0.0 in labels with no true samples. Use `zero_division` parameter to control this behavior.\n",
      "  _warn_prf(average, modifier, msg_start, len(result))\n",
      "C:\\Users\\gvais\\AppData\\Local\\Programs\\Python\\Python310\\lib\\site-packages\\sklearn\\metrics\\_classification.py:1469: UndefinedMetricWarning: Recall and F-score are ill-defined and being set to 0.0 in labels with no true samples. Use `zero_division` parameter to control this behavior.\n",
      "  _warn_prf(average, modifier, msg_start, len(result))\n",
      "C:\\Users\\gvais\\AppData\\Local\\Programs\\Python\\Python310\\lib\\site-packages\\sklearn\\metrics\\_classification.py:1469: UndefinedMetricWarning: Recall and F-score are ill-defined and being set to 0.0 in labels with no true samples. Use `zero_division` parameter to control this behavior.\n",
      "  _warn_prf(average, modifier, msg_start, len(result))\n"
     ]
    }
   ],
   "source": [
    "#Preparing classification report\n",
    "print(classification_report(y_train_prediction,y_test))"
   ]
  },
  {
   "cell_type": "code",
   "execution_count": 67,
   "id": "69a12260-6767-4339-b7cb-f2b8b41fba12",
   "metadata": {},
   "outputs": [
    {
     "data": {
      "text/html": [
       "<style>#sk-container-id-3 {color: black;}#sk-container-id-3 pre{padding: 0;}#sk-container-id-3 div.sk-toggleable {background-color: white;}#sk-container-id-3 label.sk-toggleable__label {cursor: pointer;display: block;width: 100%;margin-bottom: 0;padding: 0.3em;box-sizing: border-box;text-align: center;}#sk-container-id-3 label.sk-toggleable__label-arrow:before {content: \"▸\";float: left;margin-right: 0.25em;color: #696969;}#sk-container-id-3 label.sk-toggleable__label-arrow:hover:before {color: black;}#sk-container-id-3 div.sk-estimator:hover label.sk-toggleable__label-arrow:before {color: black;}#sk-container-id-3 div.sk-toggleable__content {max-height: 0;max-width: 0;overflow: hidden;text-align: left;background-color: #f0f8ff;}#sk-container-id-3 div.sk-toggleable__content pre {margin: 0.2em;color: black;border-radius: 0.25em;background-color: #f0f8ff;}#sk-container-id-3 input.sk-toggleable__control:checked~div.sk-toggleable__content {max-height: 200px;max-width: 100%;overflow: auto;}#sk-container-id-3 input.sk-toggleable__control:checked~label.sk-toggleable__label-arrow:before {content: \"▾\";}#sk-container-id-3 div.sk-estimator input.sk-toggleable__control:checked~label.sk-toggleable__label {background-color: #d4ebff;}#sk-container-id-3 div.sk-label input.sk-toggleable__control:checked~label.sk-toggleable__label {background-color: #d4ebff;}#sk-container-id-3 input.sk-hidden--visually {border: 0;clip: rect(1px 1px 1px 1px);clip: rect(1px, 1px, 1px, 1px);height: 1px;margin: -1px;overflow: hidden;padding: 0;position: absolute;width: 1px;}#sk-container-id-3 div.sk-estimator {font-family: monospace;background-color: #f0f8ff;border: 1px dotted black;border-radius: 0.25em;box-sizing: border-box;margin-bottom: 0.5em;}#sk-container-id-3 div.sk-estimator:hover {background-color: #d4ebff;}#sk-container-id-3 div.sk-parallel-item::after {content: \"\";width: 100%;border-bottom: 1px solid gray;flex-grow: 1;}#sk-container-id-3 div.sk-label:hover label.sk-toggleable__label {background-color: #d4ebff;}#sk-container-id-3 div.sk-serial::before {content: \"\";position: absolute;border-left: 1px solid gray;box-sizing: border-box;top: 0;bottom: 0;left: 50%;z-index: 0;}#sk-container-id-3 div.sk-serial {display: flex;flex-direction: column;align-items: center;background-color: white;padding-right: 0.2em;padding-left: 0.2em;position: relative;}#sk-container-id-3 div.sk-item {position: relative;z-index: 1;}#sk-container-id-3 div.sk-parallel {display: flex;align-items: stretch;justify-content: center;background-color: white;position: relative;}#sk-container-id-3 div.sk-item::before, #sk-container-id-3 div.sk-parallel-item::before {content: \"\";position: absolute;border-left: 1px solid gray;box-sizing: border-box;top: 0;bottom: 0;left: 50%;z-index: -1;}#sk-container-id-3 div.sk-parallel-item {display: flex;flex-direction: column;z-index: 1;position: relative;background-color: white;}#sk-container-id-3 div.sk-parallel-item:first-child::after {align-self: flex-end;width: 50%;}#sk-container-id-3 div.sk-parallel-item:last-child::after {align-self: flex-start;width: 50%;}#sk-container-id-3 div.sk-parallel-item:only-child::after {width: 0;}#sk-container-id-3 div.sk-dashed-wrapped {border: 1px dashed gray;margin: 0 0.4em 0.5em 0.4em;box-sizing: border-box;padding-bottom: 0.4em;background-color: white;}#sk-container-id-3 div.sk-label label {font-family: monospace;font-weight: bold;display: inline-block;line-height: 1.2em;}#sk-container-id-3 div.sk-label-container {text-align: center;}#sk-container-id-3 div.sk-container {/* jupyter's `normalize.less` sets `[hidden] { display: none; }` but bootstrap.min.css set `[hidden] { display: none !important; }` so we also need the `!important` here to be able to override the default hidden behavior on the sphinx rendered scikit-learn.org. See: https://github.com/scikit-learn/scikit-learn/issues/21755 */display: inline-block !important;position: relative;}#sk-container-id-3 div.sk-text-repr-fallback {display: none;}</style><div id=\"sk-container-id-3\" class=\"sk-top-container\"><div class=\"sk-text-repr-fallback\"><pre>DecisionTreeClassifier(max_depth=3, random_state=50)</pre><b>In a Jupyter environment, please rerun this cell to show the HTML representation or trust the notebook. <br />On GitHub, the HTML representation is unable to render, please try loading this page with nbviewer.org.</b></div><div class=\"sk-container\" hidden><div class=\"sk-item\"><div class=\"sk-estimator sk-toggleable\"><input class=\"sk-toggleable__control sk-hidden--visually\" id=\"sk-estimator-id-3\" type=\"checkbox\" checked><label for=\"sk-estimator-id-3\" class=\"sk-toggleable__label sk-toggleable__label-arrow\">DecisionTreeClassifier</label><div class=\"sk-toggleable__content\"><pre>DecisionTreeClassifier(max_depth=3, random_state=50)</pre></div></div></div></div></div>"
      ],
      "text/plain": [
       "DecisionTreeClassifier(max_depth=3, random_state=50)"
      ]
     },
     "execution_count": 67,
     "metadata": {},
     "output_type": "execute_result"
    }
   ],
   "source": [
    "clf = DecisionTreeClassifier(max_depth =3, random_state = 50)\n",
    "clf.fit(x_train,y_train)"
   ]
  },
  {
   "cell_type": "code",
   "execution_count": 68,
   "id": "e51d3e92-ac8f-4b46-aeb3-9e35f51a5e2c",
   "metadata": {},
   "outputs": [
    {
     "data": {
      "text/plain": [
       "array([1, 1, 1, ..., 2, 1, 1])"
      ]
     },
     "execution_count": 68,
     "metadata": {},
     "output_type": "execute_result"
    }
   ],
   "source": [
    "y_train_prediction = clf.predict(x_test)\n",
    "y_train_prediction"
   ]
  },
  {
   "cell_type": "code",
   "execution_count": 69,
   "id": "00a4120d-09b3-4199-9f3a-407efdfa727f",
   "metadata": {},
   "outputs": [
    {
     "data": {
      "text/plain": [
       "array([1, 1, 1, ..., 1, 1, 1])"
      ]
     },
     "execution_count": 69,
     "metadata": {},
     "output_type": "execute_result"
    }
   ],
   "source": [
    "x_train_prediction = model.predict(x_train)\n",
    "x_train_prediction"
   ]
  },
  {
   "cell_type": "code",
   "execution_count": 70,
   "id": "63d0dc9c-769f-4212-a17e-e84539c6eee3",
   "metadata": {},
   "outputs": [
    {
     "name": "stdout",
     "output_type": "stream",
     "text": [
      "Accuracy Score of Training Data:  0.7268625192012289\n"
     ]
    }
   ],
   "source": [
    "training_data_accuracy = accuracy_score(y_train, x_train_prediction)\n",
    "print(\"Accuracy Score of Training Data: \", training_data_accuracy)"
   ]
  },
  {
   "cell_type": "code",
   "execution_count": 71,
   "id": "2592ecf2-fc91-45e8-a0dd-99e9ceb87e2a",
   "metadata": {},
   "outputs": [
    {
     "data": {
      "text/plain": [
       "array([1, 1, 1, ..., 2, 1, 1])"
      ]
     },
     "execution_count": 71,
     "metadata": {},
     "output_type": "execute_result"
    }
   ],
   "source": [
    "x_test_prediction = clf.predict(x_test)\n",
    "x_test_prediction"
   ]
  },
  {
   "cell_type": "code",
   "execution_count": 72,
   "id": "45bd04fc-e467-4612-bb5e-7b36d4af05b4",
   "metadata": {},
   "outputs": [
    {
     "name": "stdout",
     "output_type": "stream",
     "text": [
      "0.8732718894009217\n"
     ]
    }
   ],
   "source": [
    "score=accuracy_score(y_train_prediction,y_test)\n",
    "print(score)"
   ]
  },
  {
   "cell_type": "code",
   "execution_count": 73,
   "id": "6a8513e8-f7a4-4015-ad2f-50038670fc56",
   "metadata": {},
   "outputs": [
    {
     "name": "stdout",
     "output_type": "stream",
     "text": [
      "Mean absolute error : 1.207373271889401\n",
      "Mean squared error : 39.366359447004605\n",
      "Root Mean squared error : 6.274261665487391\n"
     ]
    }
   ],
   "source": [
    "error=mae(y_train_prediction,y_test)\n",
    "print(\"Mean absolute error : \" + str(error))\n",
    "error1=mse(y_train_prediction,y_test)\n",
    "print(\"Mean squared error : \" + str(error1))\n",
    "rmse=np.sqrt(error1)\n",
    "print(\"Root Mean squared error : \"+str(rmse))"
   ]
  },
  {
   "cell_type": "code",
   "execution_count": 74,
   "id": "1d79873c-80fe-4cae-8713-ac50d586a19f",
   "metadata": {},
   "outputs": [
    {
     "data": {
      "text/plain": [
       "array([[   0,    6,    0, ...,    0,    0,    0],\n",
       "       [   0, 1902,    0, ...,    0,    0,    0],\n",
       "       [   0,   13,  259, ...,    0,    0,    0],\n",
       "       ...,\n",
       "       [   0,    1,    0, ...,    0,    0,    0],\n",
       "       [   0,    1,    0, ...,    0,    0,    0],\n",
       "       [   0,    1,    0, ...,    0,    0,    0]], dtype=int64)"
      ]
     },
     "execution_count": 74,
     "metadata": {},
     "output_type": "execute_result"
    }
   ],
   "source": [
    "#using confusion matrix to find the number of correct and incorrect predictions summed up class-wise\n",
    "cnf_matrix = metrics.confusion_matrix(y_test, y_train_prediction)\n",
    "cnf_matrix"
   ]
  },
  {
   "cell_type": "code",
   "execution_count": 75,
   "id": "621739c6-eb6a-4687-8bc3-95b079b9bb1f",
   "metadata": {},
   "outputs": [
    {
     "name": "stdout",
     "output_type": "stream",
     "text": [
      "              precision    recall  f1-score   support\n",
      "\n",
      "           0       0.00      0.00      0.00         0\n",
      "           1       0.99      0.86      0.92      2216\n",
      "           2       0.94      1.00      0.97       259\n",
      "           3       0.89      0.88      0.88       129\n",
      "           4       0.00      0.00      0.00         0\n",
      "           5       0.00      0.00      0.00         0\n",
      "           6       0.00      0.00      0.00         0\n",
      "           7       0.00      0.00      0.00         0\n",
      "           8       0.00      0.00      0.00         0\n",
      "           9       0.00      0.00      0.00         0\n",
      "          10       0.00      0.00      0.00         0\n",
      "          11       0.00      0.00      0.00         0\n",
      "          12       0.00      0.00      0.00         0\n",
      "          13       0.00      0.00      0.00         0\n",
      "          14       0.00      0.00      0.00         0\n",
      "          15       0.00      0.00      0.00         0\n",
      "          16       0.00      0.00      0.00         0\n",
      "          17       0.00      0.00      0.00         0\n",
      "          18       0.00      0.00      0.00         0\n",
      "          19       0.00      0.00      0.00         0\n",
      "          20       0.00      0.00      0.00         0\n",
      "          21       0.00      0.00      0.00         0\n",
      "          22       0.00      0.00      0.00         0\n",
      "          23       0.00      0.00      0.00         0\n",
      "          24       0.00      0.00      0.00         0\n",
      "          25       0.00      0.00      0.00         0\n",
      "          26       0.00      0.00      0.00         0\n",
      "          27       0.00      0.00      0.00         0\n",
      "          28       0.00      0.00      0.00         0\n",
      "          30       0.00      0.00      0.00         0\n",
      "          32       0.00      0.00      0.00         0\n",
      "          36       0.00      0.00      0.00         0\n",
      "          41       0.00      0.00      0.00         0\n",
      "          44       0.00      0.00      0.00         0\n",
      "          45       0.00      0.00      0.00         0\n",
      "          49       0.00      0.00      0.00         0\n",
      "          50       0.00      0.00      0.00         0\n",
      "          53       0.00      0.00      0.00         0\n",
      "          56       0.00      0.00      0.00         0\n",
      "          60       0.00      0.00      0.00         0\n",
      "          61       0.00      0.00      0.00         0\n",
      "          70       0.00      0.00      0.00         0\n",
      "          71       0.00      0.00      0.00         0\n",
      "          84       0.00      0.00      0.00         0\n",
      "          97       0.00      0.00      0.00         0\n",
      "         117       0.00      0.00      0.00         0\n",
      "         120       0.00      0.00      0.00         0\n",
      "\n",
      "    accuracy                           0.87      2604\n",
      "   macro avg       0.06      0.06      0.06      2604\n",
      "weighted avg       0.98      0.87      0.92      2604\n",
      "\n"
     ]
    },
    {
     "name": "stderr",
     "output_type": "stream",
     "text": [
      "C:\\Users\\gvais\\AppData\\Local\\Programs\\Python\\Python310\\lib\\site-packages\\sklearn\\metrics\\_classification.py:1469: UndefinedMetricWarning: Recall and F-score are ill-defined and being set to 0.0 in labels with no true samples. Use `zero_division` parameter to control this behavior.\n",
      "  _warn_prf(average, modifier, msg_start, len(result))\n",
      "C:\\Users\\gvais\\AppData\\Local\\Programs\\Python\\Python310\\lib\\site-packages\\sklearn\\metrics\\_classification.py:1469: UndefinedMetricWarning: Recall and F-score are ill-defined and being set to 0.0 in labels with no true samples. Use `zero_division` parameter to control this behavior.\n",
      "  _warn_prf(average, modifier, msg_start, len(result))\n",
      "C:\\Users\\gvais\\AppData\\Local\\Programs\\Python\\Python310\\lib\\site-packages\\sklearn\\metrics\\_classification.py:1469: UndefinedMetricWarning: Recall and F-score are ill-defined and being set to 0.0 in labels with no true samples. Use `zero_division` parameter to control this behavior.\n",
      "  _warn_prf(average, modifier, msg_start, len(result))\n"
     ]
    }
   ],
   "source": [
    "print(classification_report(y_train_prediction,y_test))"
   ]
  }
 ],
 "metadata": {
  "kernelspec": {
   "display_name": "Python 3 (ipykernel)",
   "language": "python",
   "name": "python3"
  },
  "language_info": {
   "codemirror_mode": {
    "name": "ipython",
    "version": 3
   },
   "file_extension": ".py",
   "mimetype": "text/x-python",
   "name": "python",
   "nbconvert_exporter": "python",
   "pygments_lexer": "ipython3",
   "version": "3.10.7"
  },
  "varInspector": {
   "cols": {
    "lenName": 16,
    "lenType": 16,
    "lenVar": 40
   },
   "kernels_config": {
    "python": {
     "delete_cmd_postfix": "",
     "delete_cmd_prefix": "del ",
     "library": "var_list.py",
     "varRefreshCmd": "print(var_dic_list())"
    },
    "r": {
     "delete_cmd_postfix": ") ",
     "delete_cmd_prefix": "rm(",
     "library": "var_list.r",
     "varRefreshCmd": "cat(var_dic_list()) "
    }
   },
   "types_to_exclude": [
    "module",
    "function",
    "builtin_function_or_method",
    "instance",
    "_Feature"
   ],
   "window_display": false
  }
 },
 "nbformat": 4,
 "nbformat_minor": 5
}
